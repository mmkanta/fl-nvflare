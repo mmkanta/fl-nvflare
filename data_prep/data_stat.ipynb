{
 "cells": [
  {
   "cell_type": "code",
   "execution_count": 26,
   "id": "2b2745c7",
   "metadata": {},
   "outputs": [],
   "source": [
    "import pandas as pd\n",
    "import matplotlib.pyplot as plt"
   ]
  },
  {
   "cell_type": "code",
   "execution_count": 27,
   "id": "c4174e8a",
   "metadata": {
    "scrolled": false
   },
   "outputs": [
    {
     "data": {
      "text/html": [
       "<div>\n",
       "<style scoped>\n",
       "    .dataframe tbody tr th:only-of-type {\n",
       "        vertical-align: middle;\n",
       "    }\n",
       "\n",
       "    .dataframe tbody tr th {\n",
       "        vertical-align: top;\n",
       "    }\n",
       "\n",
       "    .dataframe thead th {\n",
       "        text-align: right;\n",
       "    }\n",
       "</style>\n",
       "<table border=\"1\" class=\"dataframe\">\n",
       "  <thead>\n",
       "    <tr style=\"text-align: right;\">\n",
       "      <th></th>\n",
       "      <th>Image</th>\n",
       "      <th>Atelectasis</th>\n",
       "      <th>Cardiomegaly</th>\n",
       "      <th>Effusion</th>\n",
       "      <th>Pneumothorax</th>\n",
       "      <th>Edema</th>\n",
       "    </tr>\n",
       "  </thead>\n",
       "  <tbody>\n",
       "    <tr>\n",
       "      <th>0</th>\n",
       "      <td>80caa435b6ab5edaff4a0a758ffaec6e.dcm</td>\n",
       "      <td>1.0</td>\n",
       "      <td>0.0</td>\n",
       "      <td>0.0</td>\n",
       "      <td>0.0</td>\n",
       "      <td>0</td>\n",
       "    </tr>\n",
       "    <tr>\n",
       "      <th>1</th>\n",
       "      <td>0622cd29e4e0e4f198abf15614819ae8.dcm</td>\n",
       "      <td>0.0</td>\n",
       "      <td>1.0</td>\n",
       "      <td>0.0</td>\n",
       "      <td>0.0</td>\n",
       "      <td>0</td>\n",
       "    </tr>\n",
       "    <tr>\n",
       "      <th>2</th>\n",
       "      <td>bd6eb525438d6da1ced0ed1810857772.dcm</td>\n",
       "      <td>0.0</td>\n",
       "      <td>0.0</td>\n",
       "      <td>1.0</td>\n",
       "      <td>0.0</td>\n",
       "      <td>0</td>\n",
       "    </tr>\n",
       "    <tr>\n",
       "      <th>3</th>\n",
       "      <td>25f2c7b53a6ed09a9aaf73c30357aaf6.dcm</td>\n",
       "      <td>0.0</td>\n",
       "      <td>1.0</td>\n",
       "      <td>0.0</td>\n",
       "      <td>0.0</td>\n",
       "      <td>0</td>\n",
       "    </tr>\n",
       "    <tr>\n",
       "      <th>4</th>\n",
       "      <td>f769eea17a2e7678f481f386c3c6261c.dcm</td>\n",
       "      <td>0.0</td>\n",
       "      <td>1.0</td>\n",
       "      <td>0.0</td>\n",
       "      <td>0.0</td>\n",
       "      <td>0</td>\n",
       "    </tr>\n",
       "    <tr>\n",
       "      <th>...</th>\n",
       "      <td>...</td>\n",
       "      <td>...</td>\n",
       "      <td>...</td>\n",
       "      <td>...</td>\n",
       "      <td>...</td>\n",
       "      <td>...</td>\n",
       "    </tr>\n",
       "    <tr>\n",
       "      <th>5161</th>\n",
       "      <td>c25370b989806c860e4f2025a7ecefbe.dcm</td>\n",
       "      <td>0.0</td>\n",
       "      <td>0.0</td>\n",
       "      <td>0.0</td>\n",
       "      <td>0.0</td>\n",
       "      <td>0</td>\n",
       "    </tr>\n",
       "    <tr>\n",
       "      <th>5162</th>\n",
       "      <td>a89d28de87c246614069931ea72e7d30.dcm</td>\n",
       "      <td>0.0</td>\n",
       "      <td>0.0</td>\n",
       "      <td>0.0</td>\n",
       "      <td>0.0</td>\n",
       "      <td>0</td>\n",
       "    </tr>\n",
       "    <tr>\n",
       "      <th>5163</th>\n",
       "      <td>48e47872a01b6f07a8bde354db0d65e0.dcm</td>\n",
       "      <td>0.0</td>\n",
       "      <td>0.0</td>\n",
       "      <td>0.0</td>\n",
       "      <td>0.0</td>\n",
       "      <td>0</td>\n",
       "    </tr>\n",
       "    <tr>\n",
       "      <th>5164</th>\n",
       "      <td>39f57c83a1026f43f87ec02311874dc3.dcm</td>\n",
       "      <td>0.0</td>\n",
       "      <td>0.0</td>\n",
       "      <td>0.0</td>\n",
       "      <td>0.0</td>\n",
       "      <td>0</td>\n",
       "    </tr>\n",
       "    <tr>\n",
       "      <th>5165</th>\n",
       "      <td>dc9b0333730ee8478f502b1bfcaaab77.dcm</td>\n",
       "      <td>0.0</td>\n",
       "      <td>0.0</td>\n",
       "      <td>0.0</td>\n",
       "      <td>0.0</td>\n",
       "      <td>0</td>\n",
       "    </tr>\n",
       "  </tbody>\n",
       "</table>\n",
       "<p>5166 rows × 6 columns</p>\n",
       "</div>"
      ],
      "text/plain": [
       "                                     Image  Atelectasis  Cardiomegaly  \\\n",
       "0     80caa435b6ab5edaff4a0a758ffaec6e.dcm          1.0           0.0   \n",
       "1     0622cd29e4e0e4f198abf15614819ae8.dcm          0.0           1.0   \n",
       "2     bd6eb525438d6da1ced0ed1810857772.dcm          0.0           0.0   \n",
       "3     25f2c7b53a6ed09a9aaf73c30357aaf6.dcm          0.0           1.0   \n",
       "4     f769eea17a2e7678f481f386c3c6261c.dcm          0.0           1.0   \n",
       "...                                    ...          ...           ...   \n",
       "5161  c25370b989806c860e4f2025a7ecefbe.dcm          0.0           0.0   \n",
       "5162  a89d28de87c246614069931ea72e7d30.dcm          0.0           0.0   \n",
       "5163  48e47872a01b6f07a8bde354db0d65e0.dcm          0.0           0.0   \n",
       "5164  39f57c83a1026f43f87ec02311874dc3.dcm          0.0           0.0   \n",
       "5165  dc9b0333730ee8478f502b1bfcaaab77.dcm          0.0           0.0   \n",
       "\n",
       "      Effusion  Pneumothorax  Edema  \n",
       "0          0.0           0.0      0  \n",
       "1          0.0           0.0      0  \n",
       "2          1.0           0.0      0  \n",
       "3          0.0           0.0      0  \n",
       "4          0.0           0.0      0  \n",
       "...        ...           ...    ...  \n",
       "5161       0.0           0.0      0  \n",
       "5162       0.0           0.0      0  \n",
       "5163       0.0           0.0      0  \n",
       "5164       0.0           0.0      0  \n",
       "5165       0.0           0.0      0  \n",
       "\n",
       "[5166 rows x 6 columns]"
      ]
     },
     "execution_count": 27,
     "metadata": {},
     "output_type": "execute_result"
    }
   ],
   "source": [
    "site_name = 'vin' # edit\n",
    "df = pd.read_csv('data/data_' + site_name + '.csv')\n",
    "df"
   ]
  },
  {
   "cell_type": "code",
   "execution_count": 28,
   "id": "4f56629c",
   "metadata": {},
   "outputs": [],
   "source": [
    "classes = df.columns.tolist()[1:]\n",
    "classes.sort()\n",
    "count = [df[df[c] == 1.0].shape[0] for c in classes]\n",
    "\n",
    "classes.insert(0, 'No Findings')\n",
    "df2 = df.drop('Image', axis=1)\n",
    "count.insert(0, df2[(df2.T == 0.0).all()].shape[0])"
   ]
  },
  {
   "cell_type": "code",
   "execution_count": 29,
   "id": "9e56fc13",
   "metadata": {},
   "outputs": [
    {
     "name": "stderr",
     "output_type": "stream",
     "text": [
      "<ipython-input-29-76234aa3ab93>:5: UserWarning: FixedFormatter should only be used together with FixedLocator\n",
      "  ax.set_xticklabels(classes, rotation=45, ha='right')\n"
     ]
    },
    {
     "data": {
      "image/png": "[encoded data removed]",
      "text/plain": [
       "<Figure size 432x288 with 1 Axes>"
      ]
     },
     "metadata": {
      "needs_background": "light"
     },
     "output_type": "display_data"
    }
   ],
   "source": [
    "fig, ax = plt.subplots()\n",
    "b = ax.bar(classes, count)\n",
    "ax.bar_label(b, padding=1)\n",
    "ax.set_title(site_name)\n",
    "ax.set_xticklabels(classes, rotation=45, ha='right')\n",
    "ax.set_ylim(0, count[0]+500)\n",
    "plt.show()"
   ]
  },
  {
   "cell_type": "code",
   "execution_count": 30,
   "id": "cc7bb165",
   "metadata": {},
   "outputs": [],
   "source": [
    "fig.savefig('data/' + site_name + '.png', format='png', bbox_inches='tight', facecolor='white')"
   ]
  },
  {
   "cell_type": "code",
   "execution_count": null,
   "id": "d38b5592",
   "metadata": {},
   "outputs": [],
   "source": []
  }
 ],
 "metadata": {
  "kernelspec": {
   "display_name": "Python 3",
   "language": "python",
   "name": "python3"
  },
  "language_info": {
   "codemirror_mode": {
    "name": "ipython",
    "version": 3
   },
   "file_extension": ".py",
   "mimetype": "text/x-python",
   "name": "python",
   "nbconvert_exporter": "python",
   "pygments_lexer": "ipython3",
   "version": "3.8.8"
  }
 },
 "nbformat": 4,
 "nbformat_minor": 5
}
