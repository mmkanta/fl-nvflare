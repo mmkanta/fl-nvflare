{
 "cells": [
  {
   "cell_type": "code",
   "execution_count": null,
   "metadata": {},
   "outputs": [],
   "source": [
    "!pip install nvflare==2.0.14\n",
    "!apt update\n",
    "!apt install -y zip \n",
    "!apt-get update\n",
    "!pip install -q Pillow pandas numpy opencv-python opencv-contrib-python sklearn seaborn boto3 uuid efficientnet_pytorch transformers transformers[sentencepiece] ipywidgets\n",
    "!pip install python-gdcm pydicom\n",
    "!pip install --upgrade albumentations\n",
    "# !pip uninstall opencv-python-headless==4.5.5.62 -y\n",
    "# !pip install opencv-python-headless==4.5.2.52"
   ]
  }
 ],
 "metadata": {
  "language_info": {
   "name": "python"
  },
  "orig_nbformat": 4
 },
 "nbformat": 4,
 "nbformat_minor": 2
}
