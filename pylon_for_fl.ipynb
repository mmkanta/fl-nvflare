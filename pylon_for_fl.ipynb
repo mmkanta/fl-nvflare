{
 "cells": [
  {
   "cell_type": "markdown",
   "metadata": {
    "id": "t1CLz6gdHJRP"
   },
   "source": [
    "# model"
   ]
  },
  {
   "cell_type": "markdown",
   "metadata": {
    "id": "diST8xnnHzQo"
   },
   "source": [
    "## Install package"
   ]
  },
  {
   "cell_type": "code",
   "execution_count": 1,
   "metadata": {
    "id": "HdjA0jyRZi6i"
   },
   "outputs": [],
   "source": [
    "### download pylon folder and change file path !"
   ]
  },
  {
   "cell_type": "code",
   "execution_count": 2,
   "metadata": {
    "colab": {
     "base_uri": "https://localhost:8080/"
    },
    "id": "Xhbp3ymIWJc7",
    "outputId": "185097dc-ebc3-4b20-fb9b-80730698880b"
   },
   "outputs": [],
   "source": [
    "# from google.colab import drive\n",
    "# drive.mount('/content/gdrive')"
   ]
  },
  {
   "cell_type": "code",
   "execution_count": 3,
   "metadata": {
    "colab": {
     "base_uri": "https://localhost:8080/"
    },
    "id": "Fb691RwBHXAs",
    "outputId": "8830e224-69ab-462e-cb20-12c595e8ae9f"
   },
   "outputs": [
    {
     "name": "stdout",
     "output_type": "stream",
     "text": [
      "Collecting albumentations\n",
      "  Downloading albumentations-1.1.0-py3-none-any.whl (102 kB)\n",
      "\u001b[K     |████████████████████████████████| 102 kB 1.9 MB/s eta 0:00:01\n",
      "\u001b[?25hRequirement already satisfied: scipy in /Users/supapornamornsirivat/Downloads/Downloads/anaconda3/lib/python3.8/site-packages (from albumentations) (1.6.2)\n",
      "Collecting opencv-python-headless>=4.1.1\n",
      "  Downloading opencv_python_headless-4.5.5.64-cp36-abi3-macosx_10_15_x86_64.whl (46.3 MB)\n",
      "\u001b[K     |████████████████████████████████| 46.3 MB 2.5 MB/s eta 0:00:011 MB 4.1 MB/s eta 0:00:11\n",
      "\u001b[?25hRequirement already satisfied: numpy>=1.11.1 in /Users/supapornamornsirivat/Downloads/Downloads/anaconda3/lib/python3.8/site-packages (from albumentations) (1.21.5)\n",
      "Requirement already satisfied: PyYAML in /Users/supapornamornsirivat/Downloads/Downloads/anaconda3/lib/python3.8/site-packages (from albumentations) (5.4.1)\n",
      "Requirement already satisfied: scikit-image>=0.16.1 in /Users/supapornamornsirivat/Downloads/Downloads/anaconda3/lib/python3.8/site-packages (from albumentations) (0.18.1)\n",
      "Collecting qudida>=0.0.4\n",
      "  Downloading qudida-0.0.4-py3-none-any.whl (3.5 kB)\n",
      "Requirement already satisfied: scikit-learn>=0.19.1 in /Users/supapornamornsirivat/Downloads/Downloads/anaconda3/lib/python3.8/site-packages (from qudida>=0.0.4->albumentations) (1.0.2)\n",
      "Requirement already satisfied: typing-extensions in /Users/supapornamornsirivat/Downloads/Downloads/anaconda3/lib/python3.8/site-packages (from qudida>=0.0.4->albumentations) (3.7.4.3)\n",
      "Requirement already satisfied: matplotlib!=3.0.0,>=2.0.0 in /Users/supapornamornsirivat/Downloads/Downloads/anaconda3/lib/python3.8/site-packages (from scikit-image>=0.16.1->albumentations) (3.4.0)\n",
      "Requirement already satisfied: networkx>=2.0 in /Users/supapornamornsirivat/Downloads/Downloads/anaconda3/lib/python3.8/site-packages (from scikit-image>=0.16.1->albumentations) (2.5)\n",
      "Requirement already satisfied: pillow!=7.1.0,!=7.1.1,>=4.3.0 in /Users/supapornamornsirivat/Downloads/Downloads/anaconda3/lib/python3.8/site-packages (from scikit-image>=0.16.1->albumentations) (8.2.0)\n",
      "Requirement already satisfied: imageio>=2.3.0 in /Users/supapornamornsirivat/Downloads/Downloads/anaconda3/lib/python3.8/site-packages (from scikit-image>=0.16.1->albumentations) (2.9.0)\n",
      "Requirement already satisfied: tifffile>=2019.7.26 in /Users/supapornamornsirivat/Downloads/Downloads/anaconda3/lib/python3.8/site-packages (from scikit-image>=0.16.1->albumentations) (2020.10.1)\n",
      "Requirement already satisfied: PyWavelets>=1.1.1 in /Users/supapornamornsirivat/Downloads/Downloads/anaconda3/lib/python3.8/site-packages (from scikit-image>=0.16.1->albumentations) (1.1.1)\n",
      "Requirement already satisfied: pyparsing>=2.2.1 in /Users/supapornamornsirivat/Downloads/Downloads/anaconda3/lib/python3.8/site-packages (from matplotlib!=3.0.0,>=2.0.0->scikit-image>=0.16.1->albumentations) (2.4.7)\n",
      "Requirement already satisfied: cycler>=0.10 in /Users/supapornamornsirivat/Downloads/Downloads/anaconda3/lib/python3.8/site-packages (from matplotlib!=3.0.0,>=2.0.0->scikit-image>=0.16.1->albumentations) (0.10.0)\n",
      "Requirement already satisfied: python-dateutil>=2.7 in /Users/supapornamornsirivat/Downloads/Downloads/anaconda3/lib/python3.8/site-packages (from matplotlib!=3.0.0,>=2.0.0->scikit-image>=0.16.1->albumentations) (2.8.1)\n",
      "Requirement already satisfied: kiwisolver>=1.0.1 in /Users/supapornamornsirivat/Downloads/Downloads/anaconda3/lib/python3.8/site-packages (from matplotlib!=3.0.0,>=2.0.0->scikit-image>=0.16.1->albumentations) (1.3.1)\n",
      "Requirement already satisfied: six in /Users/supapornamornsirivat/Downloads/Downloads/anaconda3/lib/python3.8/site-packages (from cycler>=0.10->matplotlib!=3.0.0,>=2.0.0->scikit-image>=0.16.1->albumentations) (1.15.0)\n",
      "Requirement already satisfied: decorator>=4.3.0 in /Users/supapornamornsirivat/Downloads/Downloads/anaconda3/lib/python3.8/site-packages (from networkx>=2.0->scikit-image>=0.16.1->albumentations) (5.0.6)\n",
      "Requirement already satisfied: threadpoolctl>=2.0.0 in /Users/supapornamornsirivat/Downloads/Downloads/anaconda3/lib/python3.8/site-packages (from scikit-learn>=0.19.1->qudida>=0.0.4->albumentations) (2.1.0)\n",
      "Requirement already satisfied: joblib>=0.11 in /Users/supapornamornsirivat/Downloads/Downloads/anaconda3/lib/python3.8/site-packages (from scikit-learn>=0.19.1->qudida>=0.0.4->albumentations) (1.0.1)\n",
      "Installing collected packages: opencv-python-headless, qudida, albumentations\n",
      "Successfully installed albumentations-1.1.0 opencv-python-headless-4.5.5.64 qudida-0.0.4\n"
     ]
    }
   ],
   "source": [
    "! pip install --upgrade albumentations"
   ]
  },
  {
   "cell_type": "code",
   "execution_count": 4,
   "metadata": {
    "colab": {
     "base_uri": "https://localhost:8080/"
    },
    "id": "KiUZek5WKLr5",
    "outputId": "c32696e9-3747-49d1-8358-c3e0dbabf023"
   },
   "outputs": [
    {
     "name": "stdout",
     "output_type": "stream",
     "text": [
      "Found existing installation: opencv-python-headless 4.5.5.64\n",
      "Uninstalling opencv-python-headless-4.5.5.64:\n",
      "  Successfully uninstalled opencv-python-headless-4.5.5.64\n"
     ]
    }
   ],
   "source": [
    "!pip uninstall opencv-python-headless==4.5.5.62 -y"
   ]
  },
  {
   "cell_type": "code",
   "execution_count": 5,
   "metadata": {
    "colab": {
     "base_uri": "https://localhost:8080/"
    },
    "id": "zdedYAnKKRtA",
    "outputId": "42900314-9843-4581-86da-18eab6a3c21e"
   },
   "outputs": [
    {
     "name": "stdout",
     "output_type": "stream",
     "text": [
      "Collecting opencv-python-headless==4.5.2.52\n",
      "  Downloading opencv_python_headless-4.5.2.52-cp38-cp38-macosx_10_15_x86_64.whl (43.6 MB)\n",
      "\u001b[K     |████████████████████████████████| 43.6 MB 4.0 MB/s eta 0:00:01\n",
      "\u001b[?25hRequirement already satisfied: numpy>=1.17.3 in /Users/supapornamornsirivat/Downloads/Downloads/anaconda3/lib/python3.8/site-packages (from opencv-python-headless==4.5.2.52) (1.21.5)\n",
      "Installing collected packages: opencv-python-headless\n",
      "Successfully installed opencv-python-headless-4.5.2.52\n"
     ]
    }
   ],
   "source": [
    "!pip install opencv-python-headless==4.5.2.52"
   ]
  },
  {
   "cell_type": "code",
   "execution_count": 6,
   "metadata": {
    "colab": {
     "base_uri": "https://localhost:8080/"
    },
    "id": "j9-mXSUjxTZC",
    "outputId": "6a33e378-a739-4853-c157-8278152f097f"
   },
   "outputs": [
    {
     "name": "stdout",
     "output_type": "stream",
     "text": [
      "Collecting python-gdcm\n",
      "  Downloading python_gdcm-3.0.12-cp38-cp38-macosx_10_9_x86_64.whl (11.4 MB)\n",
      "\u001b[K     |████████████████████████████████| 11.4 MB 2.2 MB/s eta 0:00:01\n",
      "\u001b[?25hCollecting pydicom\n",
      "  Downloading pydicom-2.3.0-py3-none-any.whl (2.0 MB)\n",
      "\u001b[K     |████████████████████████████████| 2.0 MB 5.2 MB/s eta 0:00:01\n",
      "\u001b[?25hInstalling collected packages: python-gdcm, pydicom\n",
      "Successfully installed pydicom-2.3.0 python-gdcm-3.0.12\n"
     ]
    }
   ],
   "source": [
    "!pip install python-gdcm pydicom"
   ]
  },
  {
   "cell_type": "code",
   "execution_count": 7,
   "metadata": {
    "colab": {
     "base_uri": "https://localhost:8080/"
    },
    "id": "qjvJXCrJHMvQ",
    "outputId": "0dcbdee7-5b80-46fc-f658-2af305e6e75c"
   },
   "outputs": [
    {
     "name": "stdout",
     "output_type": "stream",
     "text": [
      "1.11.0\n"
     ]
    }
   ],
   "source": [
    "import torch\n",
    "from torch import nn\n",
    "from torch.utils.data import Dataset, DataLoader\n",
    "from torchvision import datasets, models\n",
    "from torchvision.transforms import ToTensor, Resize\n",
    "from torchvision.io import read_image, ImageReadMode\n",
    "# import torchmetrics\n",
    "import torch.nn.functional as F\n",
    "import numpy as np\n",
    "\n",
    "print(torch.__version__)"
   ]
  },
  {
   "cell_type": "code",
   "execution_count": 8,
   "metadata": {
    "id": "5EvQEYy3KP-o"
   },
   "outputs": [],
   "source": [
    "from albumentations import HorizontalFlip, Rotate, RandomBrightnessContrast, Flip, Compose, RandomResizedCrop\n",
    "from typing import List, Optional, Dict, Generator, NamedTuple, Any, Tuple, Union, Mapping"
   ]
  },
  {
   "cell_type": "code",
   "execution_count": 9,
   "metadata": {
    "id": "F4UlkL6xKU3o"
   },
   "outputs": [],
   "source": [
    "import os\n",
    "import cv2\n",
    "import numpy as np\n",
    "import pandas as pd\n",
    "import matplotlib.pyplot as plt\n",
    "from sklearn.model_selection import train_test_split\n",
    "from multiprocessing import Pool"
   ]
  },
  {
   "cell_type": "code",
   "execution_count": 10,
   "metadata": {
    "id": "vT9KRiALKWpu"
   },
   "outputs": [],
   "source": [
    "import gc\n",
    "import math\n",
    "from tqdm import tqdm\n",
    "import time"
   ]
  },
  {
   "cell_type": "code",
   "execution_count": 11,
   "metadata": {
    "colab": {
     "base_uri": "https://localhost:8080/"
    },
    "id": "oe3mAZv1ULjz",
    "outputId": "61ca400d-f31f-4b74-969a-59fe29337157"
   },
   "outputs": [
    {
     "name": "stdout",
     "output_type": "stream",
     "text": [
      "Using cpu device\n"
     ]
    }
   ],
   "source": [
    "device = torch.device('cuda' if torch.cuda.is_available() else 'cpu')\n",
    "print(f'Using {device} device')"
   ]
  },
  {
   "cell_type": "markdown",
   "metadata": {
    "id": "2NOt_B973l7E"
   },
   "source": [
    "## Set parameter"
   ]
  },
  {
   "cell_type": "code",
   "execution_count": 12,
   "metadata": {
    "id": "Mbay1BYa4svQ"
   },
   "outputs": [],
   "source": [
    "epochs = 50\n",
    "\n",
    "labels_col = ['Atelectasis', 'Cardiomegaly', 'Effusion', 'Pneumothorax', 'Edema']\n",
    "classes = 5 # number of findings\n",
    "image_w = 256\n",
    "image_h = 256\n",
    "batch_size = 32"
   ]
  },
  {
   "cell_type": "markdown",
   "metadata": {
    "id": "j5_Crk4iKsLM"
   },
   "source": [
    "## Create PyTorch Dataset"
   ]
  },
  {
   "cell_type": "code",
   "execution_count": 13,
   "metadata": {
    "id": "da1RHDU3TbA4"
   },
   "outputs": [],
   "source": [
    "import pydicom\n",
    "from pydicom.pixel_data_handlers.util import apply_voi_lut\n",
    "\n",
    "def dicom2array(path, voi_lut=True, fix_monochrome=True):\n",
    "    \"\"\"Convert DICOM file to numy array\n",
    "    \n",
    "    Args: \n",
    "        path (str): Path to the DICOM file to be converted\n",
    "        voi_lut (bool): Whether or not VOI LUT is available\n",
    "        fix_monochrome (bool): Whether or not to apply MONOCHROME fix\n",
    "        \n",
    "    Returns:\n",
    "        Numpy array of the respective DICOM file\n",
    "    \"\"\"\n",
    "    \n",
    "    # Use the pydicom library to read the DICOM file\n",
    "    dicom = pydicom.read_file(path)\n",
    "    \n",
    "    # VOI LUT (if available by DICOM device) is used to transform raw DICOM data to \"human-friendly\" view\n",
    "    if voi_lut:\n",
    "        data = apply_voi_lut(dicom.pixel_array, dicom)\n",
    "    else:\n",
    "        data = dicom.pixel_array\n",
    "        \n",
    "    # Depending on this value, X-ray may look inverted - fix that\n",
    "    if fix_monochrome and dicom.PhotometricInterpretation == \"MONOCHROME1\":\n",
    "        data = np.amax(data) - data\n",
    "        \n",
    "    # Normalize the image array\n",
    "    data = data - np.min(data)\n",
    "    data = data / np.max(data)\n",
    "    data = (data * 255).astype(np.uint8)\n",
    "    \n",
    "    return data"
   ]
  },
  {
   "cell_type": "code",
   "execution_count": 14,
   "metadata": {
    "id": "7ugavHTmp3Sb"
   },
   "outputs": [],
   "source": [
    "class XRayDataset(Dataset):\n",
    "    def __init__(self, df, image_dir, transform=None, target_transform=None):\n",
    "      self.img_files = df['Image'].tolist()\n",
    "      self.img_labels = df[labels_col].values\n",
    "      self.transform = transform\n",
    "      self.target_transform = target_transform\n",
    "      self.image_dir = image_dir\n",
    "\n",
    "    def __len__(self):\n",
    "      return len(self.img_labels)\n",
    "\n",
    "    def __getitem__(self, idx):\n",
    "      img_path = os.path.join(self.image_dir, self.img_files[idx])\n",
    "      if '.dcm' in self.img_files[idx]:\n",
    "        image = dicom2array(img_path)\n",
    "        image = torch.tensor(image)/255\n",
    "        image = image.unsqueeze(0)\n",
    "      else:\n",
    "        image = read_image(img_path, mode=ImageReadMode.GRAY)/255\n",
    "\n",
    "      label = self.img_labels[idx]\n",
    "      if self.transform:\n",
    "          image = image[0].numpy()\n",
    "          aug = self.transform(image=image)\n",
    "          image = torch.from_numpy(aug[\"image\"])\n",
    "          image = image.unsqueeze(0)\n",
    "      image = image.unsqueeze(0)\n",
    "      image = F.interpolate(image, size=image_w)\n",
    "      image = image[0]\n",
    "      # image = image.expand(3, -1, -1)\n",
    "      return image, label"
   ]
  },
  {
   "cell_type": "code",
   "execution_count": 15,
   "metadata": {
    "id": "lpOhCgojt_E1"
   },
   "outputs": [],
   "source": [
    "class EarlyStopping():\n",
    "    \"\"\"\n",
    "    Early stopping to stop the training when the loss does not improve after\n",
    "    certain epochs.\n",
    "    \"\"\"\n",
    "    def __init__(self, patience=5, min_delta=0):\n",
    "        \"\"\"\n",
    "        :param patience: how many epochs to wait before stopping when loss is\n",
    "               not improving\n",
    "        :param min_delta: minimum difference between new loss and old loss for\n",
    "               new loss to be considered as an improvement\n",
    "        \"\"\"\n",
    "        self.patience = patience\n",
    "        self.min_delta = min_delta\n",
    "        self.counter = 0\n",
    "        self.best_loss = None\n",
    "        self.early_stop = False\n",
    "    def __call__(self, val_loss):\n",
    "        if self.best_loss == None:\n",
    "            self.best_loss = val_loss\n",
    "        elif self.best_loss - val_loss > self.min_delta:\n",
    "            self.best_loss = val_loss\n",
    "            # reset counter if validation loss improves\n",
    "            self.counter = 0\n",
    "        elif self.best_loss - val_loss < self.min_delta:\n",
    "            self.counter += 1\n",
    "            print(f\"INFO: Early stopping counter {self.counter} of {self.patience}\")\n",
    "            if self.counter >= self.patience:\n",
    "                print('INFO: Early stopping')\n",
    "                self.early_stop = True"
   ]
  },
  {
   "cell_type": "code",
   "execution_count": 16,
   "metadata": {
    "id": "vCXjKmI--vv0"
   },
   "outputs": [],
   "source": [
    "def augment(p=0.5):\n",
    "    return Compose([\n",
    "        RandomResizedCrop(image_h,image_w,scale=(0.7, 1.0), p=1.0),\n",
    "        HorizontalFlip(p=0.5),\n",
    "        RandomBrightnessContrast(0.5,0.5,p=0.5),\n",
    "        Rotate(90, border_mode=0, p=0.5),\n",
    "    ], p=p)\n",
    "augmentation = augment()"
   ]
  },
  {
   "cell_type": "code",
   "execution_count": 17,
   "metadata": {
    "colab": {
     "base_uri": "https://localhost:8080/",
     "height": 143
    },
    "id": "j3lWAjfIua3J",
    "outputId": "c39e373e-9a26-4576-f955-2163a0ed8fd8"
   },
   "outputs": [
    {
     "data": {
      "text/html": [
       "<div>\n",
       "<style scoped>\n",
       "    .dataframe tbody tr th:only-of-type {\n",
       "        vertical-align: middle;\n",
       "    }\n",
       "\n",
       "    .dataframe tbody tr th {\n",
       "        vertical-align: top;\n",
       "    }\n",
       "\n",
       "    .dataframe thead th {\n",
       "        text-align: right;\n",
       "    }\n",
       "</style>\n",
       "<table border=\"1\" class=\"dataframe\">\n",
       "  <thead>\n",
       "    <tr style=\"text-align: right;\">\n",
       "      <th></th>\n",
       "      <th>Image</th>\n",
       "      <th>Atelectasis</th>\n",
       "      <th>Cardiomegaly</th>\n",
       "      <th>Effusion</th>\n",
       "      <th>Pneumothorax</th>\n",
       "      <th>Edema</th>\n",
       "    </tr>\n",
       "  </thead>\n",
       "  <tbody>\n",
       "    <tr>\n",
       "      <th>0</th>\n",
       "      <td>20210102CR0073.png</td>\n",
       "      <td>0.0</td>\n",
       "      <td>1.0</td>\n",
       "      <td>0.0</td>\n",
       "      <td>0.0</td>\n",
       "      <td>0.0</td>\n",
       "    </tr>\n",
       "    <tr>\n",
       "      <th>1</th>\n",
       "      <td>20210102CR0154.png</td>\n",
       "      <td>0.0</td>\n",
       "      <td>1.0</td>\n",
       "      <td>1.0</td>\n",
       "      <td>0.0</td>\n",
       "      <td>1.0</td>\n",
       "    </tr>\n",
       "    <tr>\n",
       "      <th>2</th>\n",
       "      <td>20210102CR0185.png</td>\n",
       "      <td>0.0</td>\n",
       "      <td>0.0</td>\n",
       "      <td>0.0</td>\n",
       "      <td>0.0</td>\n",
       "      <td>0.0</td>\n",
       "    </tr>\n",
       "  </tbody>\n",
       "</table>\n",
       "</div>"
      ],
      "text/plain": [
       "                Image  Atelectasis  Cardiomegaly  Effusion  Pneumothorax  \\\n",
       "0  20210102CR0073.png          0.0           1.0       0.0           0.0   \n",
       "1  20210102CR0154.png          0.0           1.0       1.0           0.0   \n",
       "2  20210102CR0185.png          0.0           0.0       0.0           0.0   \n",
       "\n",
       "   Edema  \n",
       "0    0.0  \n",
       "1    1.0  \n",
       "2    0.0  "
      ]
     },
     "execution_count": 17,
     "metadata": {},
     "output_type": "execute_result"
    }
   ],
   "source": [
    "site_name = 'chula' # edit\n",
    "sites = ['chula', 'nih', 'padchest', 'mimic', 'vin']\n",
    "col_list = ['Image', 'Atelectasis', 'Cardiomegaly', 'Edema', 'Effusion', 'Pneumothorax']\n",
    "labels_col = col_list[1:]\n",
    "\n",
    "site_path = 'data/data_' + site_name\n",
    "IMAGE_PATH = site_path + '/image'\n",
    "\n",
    "# train and val from 1 site\n",
    "train = pd.read_csv(site_path + '/train_' + site_name + '.csv')\n",
    "val = pd.read_csv(site_path + '/val_' + site_name + '.csv')\n",
    "\n",
    "# test from all sites\n",
    "test = pd.DataFrame(columns=col_list)\n",
    "for s in sites:   \n",
    "    df = pd.read_csv('data/data_' + s + '/test_' + s + '.csv')\n",
    "    df['Image'] = df['Image'].apply(lambda x: 'data/data_' + s + '/image/' + x)\n",
    "    test = pd.concat([test,df],axis=0)\n",
    "test = test.sample(frac=1).reset_index(drop=True)\n",
    "test"
   ]
  },
  {
   "cell_type": "code",
   "execution_count": 18,
   "metadata": {
    "id": "wkepibpbtYTu"
   },
   "outputs": [],
   "source": [
    "train_dataset = XRayDataset(train, IMAGE_PATH, transform=augmentation)\n",
    "valid_dataset = XRayDataset(val, IMAGE_PATH)\n",
    "test_dataset = XRayDataset(test, IMAGE_PATH)"
   ]
  },
  {
   "cell_type": "code",
   "execution_count": 19,
   "metadata": {
    "colab": {
     "base_uri": "https://localhost:8080/",
     "height": 321
    },
    "id": "CI-1dERMUXQm",
    "outputId": "9a1d345a-8a4d-4978-b48b-a744f3f3cdda"
   },
   "outputs": [
    {
     "name": "stdout",
     "output_type": "stream",
     "text": [
      "[0. 0. 0. 0. 0.]\n",
      "torch.Size([1, 256, 256])\n"
     ]
    },
    {
     "data": {
      "text/plain": [
       "<matplotlib.image.AxesImage at 0x7f8d125588b0>"
      ]
     },
     "execution_count": 19,
     "metadata": {},
     "output_type": "execute_result"
    },
    {
     "data": {
      "image/png": "[encoded data removed]",
      "text/plain": [
       "<Figure size 432x288 with 1 Axes>"
      ]
     },
     "metadata": {
      "needs_background": "light"
     },
     "output_type": "display_data"
    }
   ],
   "source": [
    "image, label = train_dataset[2]\n",
    "print(label)\n",
    "print(image.size())\n",
    "plt.imshow(image[0], cmap='gray')"
   ]
  },
  {
   "cell_type": "code",
   "execution_count": 20,
   "metadata": {
    "id": "5pIzW88yw6Vp"
   },
   "outputs": [],
   "source": [
    "train_dataloader = DataLoader(train_dataset, batch_size=batch_size, shuffle=True)\n",
    "test_dataloader = DataLoader(test_dataset, batch_size=batch_size, shuffle=False)\n",
    "valid_dataloader = DataLoader(valid_dataset, batch_size=batch_size, shuffle=False)"
   ]
  },
  {
   "cell_type": "markdown",
   "metadata": {
    "id": "BcDITja0JlX4"
   },
   "source": [
    "## PYLON"
   ]
  },
  {
   "cell_type": "markdown",
   "metadata": {
    "id": "bXDu9DEXD6LY"
   },
   "source": [
    "### import model"
   ]
  },
  {
   "cell_type": "code",
   "execution_count": 21,
   "metadata": {
    "colab": {
     "base_uri": "https://localhost:8080/"
    },
    "id": "kuH8-3t8KaDc",
    "outputId": "6a70ca47-64df-427c-bace-998702c8a0bd"
   },
   "outputs": [
    {
     "name": "stdout",
     "output_type": "stream",
     "text": [
      "Collecting segmentation-models-pytorch\n",
      "  Downloading segmentation_models_pytorch-0.2.1-py3-none-any.whl (88 kB)\n",
      "\u001b[K     |████████████████████████████████| 88 kB 1.7 MB/s eta 0:00:01\n",
      "\u001b[?25hCollecting efficientnet-pytorch==0.6.3\n",
      "  Using cached efficientnet_pytorch-0.6.3.tar.gz (16 kB)\n",
      "Collecting timm==0.4.12\n",
      "  Using cached timm-0.4.12-py3-none-any.whl (376 kB)\n",
      "Requirement already satisfied: torchvision>=0.5.0 in /Users/supapornamornsirivat/Downloads/Downloads/anaconda3/lib/python3.8/site-packages (from segmentation-models-pytorch) (0.12.0)\n",
      "Collecting pretrainedmodels==0.7.4\n",
      "  Using cached pretrainedmodels-0.7.4.tar.gz (58 kB)\n",
      "Requirement already satisfied: torch in /Users/supapornamornsirivat/Downloads/Downloads/anaconda3/lib/python3.8/site-packages (from efficientnet-pytorch==0.6.3->segmentation-models-pytorch) (1.11.0)\n",
      "Collecting munch\n",
      "  Using cached munch-2.5.0-py2.py3-none-any.whl (10 kB)\n",
      "Requirement already satisfied: tqdm in /Users/supapornamornsirivat/Downloads/Downloads/anaconda3/lib/python3.8/site-packages (from pretrainedmodels==0.7.4->segmentation-models-pytorch) (4.59.0)\n",
      "Requirement already satisfied: typing-extensions in /Users/supapornamornsirivat/Downloads/Downloads/anaconda3/lib/python3.8/site-packages (from torch->efficientnet-pytorch==0.6.3->segmentation-models-pytorch) (3.7.4.3)\n",
      "Requirement already satisfied: numpy in /Users/supapornamornsirivat/Downloads/Downloads/anaconda3/lib/python3.8/site-packages (from torchvision>=0.5.0->segmentation-models-pytorch) (1.21.5)\n",
      "Requirement already satisfied: requests in /Users/supapornamornsirivat/Downloads/Downloads/anaconda3/lib/python3.8/site-packages (from torchvision>=0.5.0->segmentation-models-pytorch) (2.25.1)\n",
      "Requirement already satisfied: pillow!=8.3.*,>=5.3.0 in /Users/supapornamornsirivat/Downloads/Downloads/anaconda3/lib/python3.8/site-packages (from torchvision>=0.5.0->segmentation-models-pytorch) (8.2.0)\n",
      "Requirement already satisfied: six in /Users/supapornamornsirivat/Downloads/Downloads/anaconda3/lib/python3.8/site-packages (from munch->pretrainedmodels==0.7.4->segmentation-models-pytorch) (1.15.0)\n",
      "Requirement already satisfied: chardet<5,>=3.0.2 in /Users/supapornamornsirivat/Downloads/Downloads/anaconda3/lib/python3.8/site-packages (from requests->torchvision>=0.5.0->segmentation-models-pytorch) (4.0.0)\n",
      "Requirement already satisfied: idna<3,>=2.5 in /Users/supapornamornsirivat/Downloads/Downloads/anaconda3/lib/python3.8/site-packages (from requests->torchvision>=0.5.0->segmentation-models-pytorch) (2.10)\n",
      "Requirement already satisfied: urllib3<1.27,>=1.21.1 in /Users/supapornamornsirivat/Downloads/Downloads/anaconda3/lib/python3.8/site-packages (from requests->torchvision>=0.5.0->segmentation-models-pytorch) (1.26.4)\n",
      "Requirement already satisfied: certifi>=2017.4.17 in /Users/supapornamornsirivat/Downloads/Downloads/anaconda3/lib/python3.8/site-packages (from requests->torchvision>=0.5.0->segmentation-models-pytorch) (2020.12.5)\n",
      "Building wheels for collected packages: efficientnet-pytorch, pretrainedmodels\n",
      "  Building wheel for efficientnet-pytorch (setup.py) ... \u001b[?25ldone\n",
      "\u001b[?25h  Created wheel for efficientnet-pytorch: filename=efficientnet_pytorch-0.6.3-py3-none-any.whl size=12419 sha256=32bd390ada624c669646345e391f94f2febb61c136aecd882d626b465c3c4deb\n",
      "  Stored in directory: /Users/supapornamornsirivat/Downloads/Library/Caches/pip/wheels/6b/48/d7/9a3ea4072e0d735f895d5e58f9a679903dcb4e90a55418955b\n",
      "  Building wheel for pretrainedmodels (setup.py) ... \u001b[?25ldone\n",
      "\u001b[?25h  Created wheel for pretrainedmodels: filename=pretrainedmodels-0.7.4-py3-none-any.whl size=60963 sha256=4b930cd849af8dcbdd9bf5424bfa0bbd2c9f1361b06bd622f26083b3caab9791\n",
      "  Stored in directory: /Users/supapornamornsirivat/Downloads/Library/Caches/pip/wheels/ed/fa/b9/5c82b59d905f95542a192b883c0cc0082407ea2f54beb2f9e6\n",
      "Successfully built efficientnet-pytorch pretrainedmodels\n",
      "Installing collected packages: munch, timm, pretrainedmodels, efficientnet-pytorch, segmentation-models-pytorch\n",
      "  Attempting uninstall: efficientnet-pytorch\n",
      "    Found existing installation: efficientnet-pytorch 0.7.1\n",
      "    Uninstalling efficientnet-pytorch-0.7.1:\n",
      "      Successfully uninstalled efficientnet-pytorch-0.7.1\n",
      "Successfully installed efficientnet-pytorch-0.6.3 munch-2.5.0 pretrainedmodels-0.7.4 segmentation-models-pytorch-0.2.1 timm-0.4.12\n"
     ]
    }
   ],
   "source": [
    "!pip install segmentation-models-pytorch"
   ]
  },
  {
   "cell_type": "code",
   "execution_count": 22,
   "metadata": {
    "id": "XL7GTJXozMXD"
   },
   "outputs": [],
   "source": [
    "# specify path\n",
    "# !cp -R '/content/gdrive/MyDrive/Colab Notebooks/capstone/pylon for fl/pylon' '/content/pylon'"
   ]
  },
  {
   "cell_type": "code",
   "execution_count": 23,
   "metadata": {
    "id": "tI-FSshiKRHh"
   },
   "outputs": [],
   "source": [
    "from segmentation_models_pytorch.base import (SegmentationHead,\n",
    "                                              SegmentationModel)\n",
    "from segmentation_models_pytorch.encoders import get_encoder\n",
    "from torch import nn\n",
    "from pylon.trainer.start import *\n",
    "from pylon.utils.pretrain import *\n",
    "\n",
    "from pylon.model.common import *\n"
   ]
  },
  {
   "cell_type": "code",
   "execution_count": 24,
   "metadata": {
    "id": "XBLh8B2BKnQ9"
   },
   "outputs": [],
   "source": [
    "@dataclass\n",
    "class PylonConfig:\n",
    "    n_in: int\n",
    "    n_out: int\n",
    "    backbone: str = 'resnet50'\n",
    "    weights: str = 'imagenet'\n",
    "    # number of decoding feature maps\n",
    "    n_dec_ch: int = 128\n",
    "    # number of UP modules\n",
    "    n_up: int = 3\n",
    "    # prediction head kernel size\n",
    "    seg_kern_size: int = 1\n",
    "    # whether to use pyramidal attention\n",
    "    use_pa: bool = True\n",
    "    # UP module's conv layers\n",
    "    # '1layer' or '2layer' (default)\n",
    "    up_type: str = '2layer'\n",
    "    # UP module's conv kernel size\n",
    "    up_kernel_size: int = 1\n",
    "    # freeze?\n",
    "    # 'enc' to freeze the encoder\n",
    "    freeze: str = None\n",
    "    # pretraining configs\n",
    "    pretrain_conf: PretrainConfig = None\n",
    "\n",
    "    @property\n",
    "    def name(self):\n",
    "        name = f'pylon-{self.backbone}'\n",
    "        if not self.use_pa:\n",
    "            name += '-nopa'\n",
    "        name += f'-uptype{self.up_type}'\n",
    "        if self.up_kernel_size != 1:\n",
    "            name += f'-upkern{self.up_kernel_size}'\n",
    "        if self.n_up != 3:\n",
    "            name += f'-up{self.n_up}'\n",
    "        if self.weights is not None:\n",
    "            name += f'-{self.weights}'\n",
    "        name += f'-dec{self.n_dec_ch}'\n",
    "        if self.seg_kern_size != 1:\n",
    "            name += f'-segkern{self.seg_kern_size}'\n",
    "        if self.freeze is not None:\n",
    "            name += f'_freeze{self.freeze}'\n",
    "        if self.pretrain_conf is not None:\n",
    "            name += f'_{self.pretrain_conf.name}'\n",
    "        return name\n",
    "\n",
    "    def make_model(self):\n",
    "        return Pylon(self)\n",
    "\n",
    "\n",
    "class Pylon(nn.Module):\n",
    "    def __init__(self, conf: PylonConfig):\n",
    "        super(Pylon, self).__init__()\n",
    "        self.conf = conf\n",
    "        self.net = PylonCore(backbone=conf.backbone,\n",
    "                             n_in=conf.n_in,\n",
    "                             n_out=conf.n_out,\n",
    "                             weights=conf.weights,\n",
    "                             n_dec_ch=conf.n_dec_ch,\n",
    "                             use_pa=conf.use_pa,\n",
    "                             up_type=conf.up_type,\n",
    "                             up_kernel_size=conf.up_kernel_size,\n",
    "                             n_up=conf.n_up,\n",
    "                             seg_kern_size=conf.seg_kern_size)\n",
    "        self.pool = nn.AdaptiveMaxPool2d(1)\n",
    "\n",
    "        if conf.pretrain_conf is not None:\n",
    "            load_pretrain(conf.pretrain_conf, self)\n",
    "\n",
    "        if conf.freeze is not None:\n",
    "            if conf.freeze == 'enc':\n",
    "                self.net.encoder.requires_grad_(False)\n",
    "            else:\n",
    "                raise NotImplementedError()\n",
    "\n",
    "    def forward(self, img, classification=None, **kwargs):\n",
    "        # enforce float32 is a good idea\n",
    "        # because if the loss function involves a reduction operation\n",
    "        # it would be harmful, this prevents the problem\n",
    "        seg = self.net(img).float()\n",
    "        pred = self.pool(seg)\n",
    "        pred = torch.flatten(pred, start_dim=1)\n",
    "\n",
    "        loss = None\n",
    "        loss_pred = None\n",
    "        loss_bbox = None\n",
    "        if classification is not None:\n",
    "            loss_pred = F.binary_cross_entropy_with_logits(\n",
    "                pred, classification.float())\n",
    "            loss = loss_pred\n",
    "\n",
    "        return ModelReturn(\n",
    "            pred=pred,\n",
    "            pred_seg=seg,\n",
    "            loss=loss,\n",
    "            loss_pred=loss_pred,\n",
    "            loss_bbox=loss_bbox,\n",
    "        )\n",
    "\n",
    "\n",
    "class PylonCore(SegmentationModel):\n",
    "    def __init__(self,\n",
    "                 backbone: str,\n",
    "                 n_in: int,\n",
    "                 n_out: int,\n",
    "                 weights: str = 'imagenet',\n",
    "                 n_dec_ch: int = 128,\n",
    "                 use_pa: bool = True,\n",
    "                 up_type: str = '2layer',\n",
    "                 up_kernel_size: int = 1,\n",
    "                 n_up: int = 3,\n",
    "                 seg_kern_size: int = 1):\n",
    "        super(PylonCore, self).__init__()\n",
    "\n",
    "        self.encoder = get_encoder(\n",
    "            backbone,\n",
    "            in_channels=n_in,\n",
    "            depth=5,\n",
    "            weights=weights,\n",
    "        )\n",
    "\n",
    "        self.decoder = PylonDecoder(\n",
    "            encoder_channels=self.encoder.out_channels,\n",
    "            n_dec_ch=n_dec_ch,\n",
    "            use_pa=use_pa,\n",
    "            up_type=up_type,\n",
    "            up_kernel_size=up_kernel_size,\n",
    "            n_up=n_up,\n",
    "        )\n",
    "\n",
    "        self.segmentation_head = SegmentationHead(in_channels=n_dec_ch,\n",
    "                                                  out_channels=n_out,\n",
    "                                                  activation=None,\n",
    "                                                  kernel_size=seg_kern_size,\n",
    "                                                  upsampling=1)\n",
    "\n",
    "        # just to comply with SegmentationModel\n",
    "        self.classification_head = None\n",
    "        self.initialize()\n",
    "\n",
    "\n",
    "class PylonDecoder(nn.Module):\n",
    "    \"\"\"returns each layer of decoder\n",
    "    \"\"\"\n",
    "    def __init__(\n",
    "        self,\n",
    "        encoder_channels,\n",
    "        n_dec_ch: int,\n",
    "        use_pa: bool = True,\n",
    "        up_type: str = '2layer',\n",
    "        up_kernel_size: int = 1,\n",
    "        n_up: int = 3,\n",
    "        upscale_mode: str = 'bilinear',\n",
    "        align_corners=True,\n",
    "    ):\n",
    "        super(PylonDecoder, self).__init__()\n",
    "        self.n_up = n_up\n",
    "\n",
    "        self.pa = PA(\n",
    "            in_channels=encoder_channels[-1],\n",
    "            out_channels=n_dec_ch,\n",
    "            align_corners=align_corners,\n",
    "            use_pa=use_pa,\n",
    "        )\n",
    "\n",
    "        kwargs = dict(\n",
    "            out_channels=n_dec_ch,\n",
    "            upscale_mode=upscale_mode,\n",
    "            align_corners=align_corners,\n",
    "            up_type=up_type,\n",
    "            kernel_size=up_kernel_size,\n",
    "        )\n",
    "        if n_up >= 1:\n",
    "            self.up3 = UP(\n",
    "                in_channels=encoder_channels[-2],\n",
    "                **kwargs,\n",
    "            )\n",
    "        if n_up >= 2:\n",
    "            self.up2 = UP(\n",
    "                in_channels=encoder_channels[-3],\n",
    "                **kwargs,\n",
    "            )\n",
    "        if n_up >= 3:\n",
    "            self.up1 = UP(\n",
    "                in_channels=encoder_channels[-4],\n",
    "                **kwargs,\n",
    "            )\n",
    "\n",
    "    def forward(self, *features):\n",
    "        bottleneck = features[-1]\n",
    "        x = self.pa(bottleneck)  # 1/32\n",
    "        if self.n_up >= 1:\n",
    "            x = self.up3(features[-2], x)  # 1/16\n",
    "        if self.n_up >= 2:\n",
    "            x = self.up2(features[-3], x)  # 1/8\n",
    "        if self.n_up >= 3:\n",
    "            x = self.up1(features[-4], x)  # 1/4\n",
    "        return x\n",
    "\n",
    "\n",
    "class PA(nn.Module):\n",
    "    def __init__(\n",
    "        self,\n",
    "        in_channels,\n",
    "        out_channels,\n",
    "        use_pa: bool = True,\n",
    "        upscale_mode='bilinear',\n",
    "        align_corners=True,\n",
    "    ):\n",
    "        super(PA, self).__init__()\n",
    "\n",
    "        self.upscale_mode = upscale_mode\n",
    "        self.align_corners = align_corners if upscale_mode == 'bilinear' else None\n",
    "        self.use_pa = use_pa\n",
    "\n",
    "        # middle branch\n",
    "        self.mid = nn.Sequential(\n",
    "            ConvBnRelu(\n",
    "                in_channels=in_channels,\n",
    "                out_channels=out_channels,\n",
    "                kernel_size=1,\n",
    "                stride=1,\n",
    "                padding=0,\n",
    "            ))\n",
    "\n",
    "        # pyramid attention branch\n",
    "        if use_pa:\n",
    "            self.down1 = nn.Sequential(\n",
    "                nn.MaxPool2d(kernel_size=2, stride=2),\n",
    "                ConvBnRelu(in_channels=in_channels,\n",
    "                           out_channels=1,\n",
    "                           kernel_size=7,\n",
    "                           stride=1,\n",
    "                           padding=3))\n",
    "            self.down2 = nn.Sequential(\n",
    "                nn.MaxPool2d(kernel_size=2, stride=2),\n",
    "                ConvBnRelu(in_channels=1,\n",
    "                           out_channels=1,\n",
    "                           kernel_size=5,\n",
    "                           stride=1,\n",
    "                           padding=2))\n",
    "            self.down3 = nn.Sequential(\n",
    "                nn.MaxPool2d(kernel_size=2, stride=2),\n",
    "                ConvBnRelu(in_channels=1,\n",
    "                           out_channels=1,\n",
    "                           kernel_size=3,\n",
    "                           stride=1,\n",
    "                           padding=1))\n",
    "\n",
    "            self.conv3 = ConvBnRelu(in_channels=1,\n",
    "                                    out_channels=1,\n",
    "                                    kernel_size=3,\n",
    "                                    stride=1,\n",
    "                                    padding=1)\n",
    "            self.conv2 = ConvBnRelu(in_channels=1,\n",
    "                                    out_channels=1,\n",
    "                                    kernel_size=5,\n",
    "                                    stride=1,\n",
    "                                    padding=2)\n",
    "            self.conv1 = ConvBnRelu(in_channels=1,\n",
    "                                    out_channels=1,\n",
    "                                    kernel_size=7,\n",
    "                                    stride=1,\n",
    "                                    padding=3)\n",
    "\n",
    "    def forward(self, x):\n",
    "        upscale_parameters = dict(mode=self.upscale_mode,\n",
    "                                  align_corners=self.align_corners)\n",
    "\n",
    "        mid = self.mid(x)\n",
    "\n",
    "        if self.use_pa:\n",
    "            x1 = self.down1(x)\n",
    "            x2 = self.down2(x1)\n",
    "            x3 = self.down3(x2)\n",
    "            x = F.interpolate(self.conv3(x3),\n",
    "                              scale_factor=2,\n",
    "                              **upscale_parameters)\n",
    "            x = F.interpolate(self.conv2(x2) + x,\n",
    "                              scale_factor=2,\n",
    "                              **upscale_parameters)\n",
    "            x = F.interpolate(self.conv1(x1) + x,\n",
    "                              scale_factor=2,\n",
    "                              **upscale_parameters)\n",
    "            x = torch.mul(x, mid)\n",
    "        else:\n",
    "            x = mid\n",
    "        return x\n",
    "\n",
    "\n",
    "class UP(nn.Module):\n",
    "    def __init__(\n",
    "        self,\n",
    "        in_channels: int,\n",
    "        out_channels: int,\n",
    "        up_type: str = '2layer',\n",
    "        kernel_size: int = 1,\n",
    "        upscale_mode: str = 'bilinear',\n",
    "        align_corners=True,\n",
    "    ):\n",
    "        super(UP, self).__init__()\n",
    "\n",
    "        self.upscale_mode = upscale_mode\n",
    "        self.align_corners = align_corners if upscale_mode == 'bilinear' else None\n",
    "\n",
    "        if up_type == '1layer':\n",
    "            self.conv1 = ConvBnRelu(\n",
    "                in_channels=in_channels,\n",
    "                out_channels=out_channels,\n",
    "                kernel_size=kernel_size,\n",
    "                padding=kernel_size // 2,\n",
    "            )\n",
    "        elif up_type == '2layer':\n",
    "            self.conv1 = nn.Sequential(\n",
    "                ConvBnRelu(\n",
    "                    in_channels=in_channels,\n",
    "                    out_channels=in_channels,\n",
    "                    kernel_size=kernel_size,\n",
    "                    padding=kernel_size // 2,\n",
    "                ),\n",
    "                ConvBnRelu(\n",
    "                    in_channels=in_channels,\n",
    "                    out_channels=out_channels,\n",
    "                    kernel_size=kernel_size,\n",
    "                    padding=kernel_size // 2,\n",
    "                ),\n",
    "            )\n",
    "        else:\n",
    "            raise NotImplementedError()\n",
    "\n",
    "    def forward(self, x, y):\n",
    "        \"\"\"\n",
    "        Args:\n",
    "            x: low level feature\n",
    "            y: high level feature\n",
    "        \"\"\"\n",
    "        h, w = x.size(2), x.size(3)\n",
    "        y_up = F.interpolate(y,\n",
    "                             size=(h, w),\n",
    "                             mode=self.upscale_mode,\n",
    "                             align_corners=self.align_corners)\n",
    "        conv = self.conv1(x)\n",
    "        return y_up + conv\n",
    "\n",
    "\n",
    "class ConvBnRelu(nn.Module):\n",
    "    def __init__(self,\n",
    "                 in_channels: int,\n",
    "                 out_channels: int,\n",
    "                 kernel_size: int,\n",
    "                 stride: int = 1,\n",
    "                 padding: int = 0,\n",
    "                 dilation: int = 1,\n",
    "                 groups: int = 1,\n",
    "                 add_bn: bool = True,\n",
    "                 add_relu: bool = True,\n",
    "                 bias: bool = True,\n",
    "                 interpolate: bool = False):\n",
    "        super(ConvBnRelu, self).__init__()\n",
    "        self.conv = nn.Conv2d(in_channels=in_channels,\n",
    "                              out_channels=out_channels,\n",
    "                              kernel_size=kernel_size,\n",
    "                              stride=stride,\n",
    "                              padding=padding,\n",
    "                              dilation=dilation,\n",
    "                              bias=bias,\n",
    "                              groups=groups)\n",
    "        self.add_relu = add_relu\n",
    "        self.add_bn = add_bn\n",
    "        self.interpolate = interpolate\n",
    "        if add_bn:\n",
    "            self.bn = nn.BatchNorm2d(out_channels)\n",
    "        if add_relu:\n",
    "            self.activation = nn.ReLU(inplace=True)\n",
    "\n",
    "    def forward(self, x):\n",
    "        x = self.conv(x)\n",
    "        if self.add_bn:\n",
    "            x = self.bn(x)\n",
    "        if self.add_relu:\n",
    "            x = self.activation(x)\n",
    "        if self.interpolate:\n",
    "            x = F.interpolate(x,\n",
    "                              scale_factor=2,\n",
    "                              mode='bilinear',\n",
    "                              align_corners=True)\n",
    "        return x"
   ]
  },
  {
   "cell_type": "markdown",
   "metadata": {
    "id": "U8G7MINrFzt7"
   },
   "source": [
    "### create model"
   ]
  },
  {
   "cell_type": "code",
   "execution_count": 25,
   "metadata": {
    "id": "rQTfX6ISIAxc"
   },
   "outputs": [],
   "source": [
    "net_conf=PylonConfig(\n",
    "            n_in=1,\n",
    "            n_out=classes,\n",
    "            up_type='2layer',\n",
    "            # pretrain_conf=PretrainConfig(\n",
    "            #     pretrain_name='nih',\n",
    "            #     path='/content/pylon/pylon,nih,256.pkl',\n",
    "            # ),\n",
    "            # freeze='enc',\n",
    "        )"
   ]
  },
  {
   "cell_type": "code",
   "execution_count": 26,
   "metadata": {
    "colab": {
     "base_uri": "https://localhost:8080/",
     "height": 66,
     "referenced_widgets": [
      "da401f46a2494ecd9b4ba641f206894f",
      "366572ec3e8a4765b1fade8e681ae381",
      "32f7fa2171fb4d9690d6e6d267a07cd7",
      "7c2472f69d7d406ba30f9569295874fb",
      "93d7872f705b43a889950aaae4274050",
      "1c0ea54103b648dba99e8bf8b7d8a736",
      "d393bc99d0404ca8a2577ecbb0ef69ab",
      "208aa7e71ec44473a563980070f514f0",
      "9f26228ceff64471a7850c959da56ae9",
      "023ffea7dfbb473aa1d3ab66e88d096d",
      "afcfe257f35740678f4f1ef6969d2d60"
     ]
    },
    "id": "745fV0nEMMSW",
    "outputId": "ba63afb7-bc3f-4104-b8f2-c5292381c881"
   },
   "outputs": [
    {
     "name": "stderr",
     "output_type": "stream",
     "text": [
      "Downloading: \"https://download.pytorch.org/models/resnet50-19c8e357.pth\" to /Users/supapornamornsirivat/Downloads/.cache/torch/hub/checkpoints/resnet50-19c8e357.pth\n"
     ]
    },
    {
     "data": {
      "application/vnd.jupyter.widget-view+json": {
       "model_id": "fc6bccc10d60463cbcd53f9be1140ba9",
       "version_major": 2,
       "version_minor": 0
      },
      "text/plain": [
       "  0%|          | 0.00/97.8M [00:00<?, ?B/s]"
      ]
     },
     "metadata": {},
     "output_type": "display_data"
    }
   ],
   "source": [
    "model=net_conf.make_model()"
   ]
  },
  {
   "cell_type": "code",
   "execution_count": 27,
   "metadata": {
    "colab": {
     "base_uri": "https://localhost:8080/"
    },
    "id": "wUk8Q5THGXy8",
    "outputId": "36ddf56c-b5a1-4227-c337-31840363e76a"
   },
   "outputs": [
    {
     "data": {
      "text/plain": [
       "Pylon(\n",
       "  (net): PylonCore(\n",
       "    (encoder): ResNetEncoder(\n",
       "      (conv1): Conv2d(1, 64, kernel_size=(7, 7), stride=(2, 2), padding=(3, 3), bias=False)\n",
       "      (bn1): BatchNorm2d(64, eps=1e-05, momentum=0.1, affine=True, track_running_stats=True)\n",
       "      (relu): ReLU(inplace=True)\n",
       "      (maxpool): MaxPool2d(kernel_size=3, stride=2, padding=1, dilation=1, ceil_mode=False)\n",
       "      (layer1): Sequential(\n",
       "        (0): Bottleneck(\n",
       "          (conv1): Conv2d(64, 64, kernel_size=(1, 1), stride=(1, 1), bias=False)\n",
       "          (bn1): BatchNorm2d(64, eps=1e-05, momentum=0.1, affine=True, track_running_stats=True)\n",
       "          (conv2): Conv2d(64, 64, kernel_size=(3, 3), stride=(1, 1), padding=(1, 1), bias=False)\n",
       "          (bn2): BatchNorm2d(64, eps=1e-05, momentum=0.1, affine=True, track_running_stats=True)\n",
       "          (conv3): Conv2d(64, 256, kernel_size=(1, 1), stride=(1, 1), bias=False)\n",
       "          (bn3): BatchNorm2d(256, eps=1e-05, momentum=0.1, affine=True, track_running_stats=True)\n",
       "          (relu): ReLU(inplace=True)\n",
       "          (downsample): Sequential(\n",
       "            (0): Conv2d(64, 256, kernel_size=(1, 1), stride=(1, 1), bias=False)\n",
       "            (1): BatchNorm2d(256, eps=1e-05, momentum=0.1, affine=True, track_running_stats=True)\n",
       "          )\n",
       "        )\n",
       "        (1): Bottleneck(\n",
       "          (conv1): Conv2d(256, 64, kernel_size=(1, 1), stride=(1, 1), bias=False)\n",
       "          (bn1): BatchNorm2d(64, eps=1e-05, momentum=0.1, affine=True, track_running_stats=True)\n",
       "          (conv2): Conv2d(64, 64, kernel_size=(3, 3), stride=(1, 1), padding=(1, 1), bias=False)\n",
       "          (bn2): BatchNorm2d(64, eps=1e-05, momentum=0.1, affine=True, track_running_stats=True)\n",
       "          (conv3): Conv2d(64, 256, kernel_size=(1, 1), stride=(1, 1), bias=False)\n",
       "          (bn3): BatchNorm2d(256, eps=1e-05, momentum=0.1, affine=True, track_running_stats=True)\n",
       "          (relu): ReLU(inplace=True)\n",
       "        )\n",
       "        (2): Bottleneck(\n",
       "          (conv1): Conv2d(256, 64, kernel_size=(1, 1), stride=(1, 1), bias=False)\n",
       "          (bn1): BatchNorm2d(64, eps=1e-05, momentum=0.1, affine=True, track_running_stats=True)\n",
       "          (conv2): Conv2d(64, 64, kernel_size=(3, 3), stride=(1, 1), padding=(1, 1), bias=False)\n",
       "          (bn2): BatchNorm2d(64, eps=1e-05, momentum=0.1, affine=True, track_running_stats=True)\n",
       "          (conv3): Conv2d(64, 256, kernel_size=(1, 1), stride=(1, 1), bias=False)\n",
       "          (bn3): BatchNorm2d(256, eps=1e-05, momentum=0.1, affine=True, track_running_stats=True)\n",
       "          (relu): ReLU(inplace=True)\n",
       "        )\n",
       "      )\n",
       "      (layer2): Sequential(\n",
       "        (0): Bottleneck(\n",
       "          (conv1): Conv2d(256, 128, kernel_size=(1, 1), stride=(1, 1), bias=False)\n",
       "          (bn1): BatchNorm2d(128, eps=1e-05, momentum=0.1, affine=True, track_running_stats=True)\n",
       "          (conv2): Conv2d(128, 128, kernel_size=(3, 3), stride=(2, 2), padding=(1, 1), bias=False)\n",
       "          (bn2): BatchNorm2d(128, eps=1e-05, momentum=0.1, affine=True, track_running_stats=True)\n",
       "          (conv3): Conv2d(128, 512, kernel_size=(1, 1), stride=(1, 1), bias=False)\n",
       "          (bn3): BatchNorm2d(512, eps=1e-05, momentum=0.1, affine=True, track_running_stats=True)\n",
       "          (relu): ReLU(inplace=True)\n",
       "          (downsample): Sequential(\n",
       "            (0): Conv2d(256, 512, kernel_size=(1, 1), stride=(2, 2), bias=False)\n",
       "            (1): BatchNorm2d(512, eps=1e-05, momentum=0.1, affine=True, track_running_stats=True)\n",
       "          )\n",
       "        )\n",
       "        (1): Bottleneck(\n",
       "          (conv1): Conv2d(512, 128, kernel_size=(1, 1), stride=(1, 1), bias=False)\n",
       "          (bn1): BatchNorm2d(128, eps=1e-05, momentum=0.1, affine=True, track_running_stats=True)\n",
       "          (conv2): Conv2d(128, 128, kernel_size=(3, 3), stride=(1, 1), padding=(1, 1), bias=False)\n",
       "          (bn2): BatchNorm2d(128, eps=1e-05, momentum=0.1, affine=True, track_running_stats=True)\n",
       "          (conv3): Conv2d(128, 512, kernel_size=(1, 1), stride=(1, 1), bias=False)\n",
       "          (bn3): BatchNorm2d(512, eps=1e-05, momentum=0.1, affine=True, track_running_stats=True)\n",
       "          (relu): ReLU(inplace=True)\n",
       "        )\n",
       "        (2): Bottleneck(\n",
       "          (conv1): Conv2d(512, 128, kernel_size=(1, 1), stride=(1, 1), bias=False)\n",
       "          (bn1): BatchNorm2d(128, eps=1e-05, momentum=0.1, affine=True, track_running_stats=True)\n",
       "          (conv2): Conv2d(128, 128, kernel_size=(3, 3), stride=(1, 1), padding=(1, 1), bias=False)\n",
       "          (bn2): BatchNorm2d(128, eps=1e-05, momentum=0.1, affine=True, track_running_stats=True)\n",
       "          (conv3): Conv2d(128, 512, kernel_size=(1, 1), stride=(1, 1), bias=False)\n",
       "          (bn3): BatchNorm2d(512, eps=1e-05, momentum=0.1, affine=True, track_running_stats=True)\n",
       "          (relu): ReLU(inplace=True)\n",
       "        )\n",
       "        (3): Bottleneck(\n",
       "          (conv1): Conv2d(512, 128, kernel_size=(1, 1), stride=(1, 1), bias=False)\n",
       "          (bn1): BatchNorm2d(128, eps=1e-05, momentum=0.1, affine=True, track_running_stats=True)\n",
       "          (conv2): Conv2d(128, 128, kernel_size=(3, 3), stride=(1, 1), padding=(1, 1), bias=False)\n",
       "          (bn2): BatchNorm2d(128, eps=1e-05, momentum=0.1, affine=True, track_running_stats=True)\n",
       "          (conv3): Conv2d(128, 512, kernel_size=(1, 1), stride=(1, 1), bias=False)\n",
       "          (bn3): BatchNorm2d(512, eps=1e-05, momentum=0.1, affine=True, track_running_stats=True)\n",
       "          (relu): ReLU(inplace=True)\n",
       "        )\n",
       "      )\n",
       "      (layer3): Sequential(\n",
       "        (0): Bottleneck(\n",
       "          (conv1): Conv2d(512, 256, kernel_size=(1, 1), stride=(1, 1), bias=False)\n",
       "          (bn1): BatchNorm2d(256, eps=1e-05, momentum=0.1, affine=True, track_running_stats=True)\n",
       "          (conv2): Conv2d(256, 256, kernel_size=(3, 3), stride=(2, 2), padding=(1, 1), bias=False)\n",
       "          (bn2): BatchNorm2d(256, eps=1e-05, momentum=0.1, affine=True, track_running_stats=True)\n",
       "          (conv3): Conv2d(256, 1024, kernel_size=(1, 1), stride=(1, 1), bias=False)\n",
       "          (bn3): BatchNorm2d(1024, eps=1e-05, momentum=0.1, affine=True, track_running_stats=True)\n",
       "          (relu): ReLU(inplace=True)\n",
       "          (downsample): Sequential(\n",
       "            (0): Conv2d(512, 1024, kernel_size=(1, 1), stride=(2, 2), bias=False)\n",
       "            (1): BatchNorm2d(1024, eps=1e-05, momentum=0.1, affine=True, track_running_stats=True)\n",
       "          )\n",
       "        )\n",
       "        (1): Bottleneck(\n",
       "          (conv1): Conv2d(1024, 256, kernel_size=(1, 1), stride=(1, 1), bias=False)\n",
       "          (bn1): BatchNorm2d(256, eps=1e-05, momentum=0.1, affine=True, track_running_stats=True)\n",
       "          (conv2): Conv2d(256, 256, kernel_size=(3, 3), stride=(1, 1), padding=(1, 1), bias=False)\n",
       "          (bn2): BatchNorm2d(256, eps=1e-05, momentum=0.1, affine=True, track_running_stats=True)\n",
       "          (conv3): Conv2d(256, 1024, kernel_size=(1, 1), stride=(1, 1), bias=False)\n",
       "          (bn3): BatchNorm2d(1024, eps=1e-05, momentum=0.1, affine=True, track_running_stats=True)\n",
       "          (relu): ReLU(inplace=True)\n",
       "        )\n",
       "        (2): Bottleneck(\n",
       "          (conv1): Conv2d(1024, 256, kernel_size=(1, 1), stride=(1, 1), bias=False)\n",
       "          (bn1): BatchNorm2d(256, eps=1e-05, momentum=0.1, affine=True, track_running_stats=True)\n",
       "          (conv2): Conv2d(256, 256, kernel_size=(3, 3), stride=(1, 1), padding=(1, 1), bias=False)\n",
       "          (bn2): BatchNorm2d(256, eps=1e-05, momentum=0.1, affine=True, track_running_stats=True)\n",
       "          (conv3): Conv2d(256, 1024, kernel_size=(1, 1), stride=(1, 1), bias=False)\n",
       "          (bn3): BatchNorm2d(1024, eps=1e-05, momentum=0.1, affine=True, track_running_stats=True)\n",
       "          (relu): ReLU(inplace=True)\n",
       "        )\n",
       "        (3): Bottleneck(\n",
       "          (conv1): Conv2d(1024, 256, kernel_size=(1, 1), stride=(1, 1), bias=False)\n",
       "          (bn1): BatchNorm2d(256, eps=1e-05, momentum=0.1, affine=True, track_running_stats=True)\n",
       "          (conv2): Conv2d(256, 256, kernel_size=(3, 3), stride=(1, 1), padding=(1, 1), bias=False)\n",
       "          (bn2): BatchNorm2d(256, eps=1e-05, momentum=0.1, affine=True, track_running_stats=True)\n",
       "          (conv3): Conv2d(256, 1024, kernel_size=(1, 1), stride=(1, 1), bias=False)\n",
       "          (bn3): BatchNorm2d(1024, eps=1e-05, momentum=0.1, affine=True, track_running_stats=True)\n",
       "          (relu): ReLU(inplace=True)\n",
       "        )\n",
       "        (4): Bottleneck(\n",
       "          (conv1): Conv2d(1024, 256, kernel_size=(1, 1), stride=(1, 1), bias=False)\n",
       "          (bn1): BatchNorm2d(256, eps=1e-05, momentum=0.1, affine=True, track_running_stats=True)\n",
       "          (conv2): Conv2d(256, 256, kernel_size=(3, 3), stride=(1, 1), padding=(1, 1), bias=False)\n",
       "          (bn2): BatchNorm2d(256, eps=1e-05, momentum=0.1, affine=True, track_running_stats=True)\n",
       "          (conv3): Conv2d(256, 1024, kernel_size=(1, 1), stride=(1, 1), bias=False)\n",
       "          (bn3): BatchNorm2d(1024, eps=1e-05, momentum=0.1, affine=True, track_running_stats=True)\n",
       "          (relu): ReLU(inplace=True)\n",
       "        )\n",
       "        (5): Bottleneck(\n",
       "          (conv1): Conv2d(1024, 256, kernel_size=(1, 1), stride=(1, 1), bias=False)\n",
       "          (bn1): BatchNorm2d(256, eps=1e-05, momentum=0.1, affine=True, track_running_stats=True)\n",
       "          (conv2): Conv2d(256, 256, kernel_size=(3, 3), stride=(1, 1), padding=(1, 1), bias=False)\n",
       "          (bn2): BatchNorm2d(256, eps=1e-05, momentum=0.1, affine=True, track_running_stats=True)\n",
       "          (conv3): Conv2d(256, 1024, kernel_size=(1, 1), stride=(1, 1), bias=False)\n",
       "          (bn3): BatchNorm2d(1024, eps=1e-05, momentum=0.1, affine=True, track_running_stats=True)\n",
       "          (relu): ReLU(inplace=True)\n",
       "        )\n",
       "      )\n",
       "      (layer4): Sequential(\n",
       "        (0): Bottleneck(\n",
       "          (conv1): Conv2d(1024, 512, kernel_size=(1, 1), stride=(1, 1), bias=False)\n",
       "          (bn1): BatchNorm2d(512, eps=1e-05, momentum=0.1, affine=True, track_running_stats=True)\n",
       "          (conv2): Conv2d(512, 512, kernel_size=(3, 3), stride=(2, 2), padding=(1, 1), bias=False)\n",
       "          (bn2): BatchNorm2d(512, eps=1e-05, momentum=0.1, affine=True, track_running_stats=True)\n",
       "          (conv3): Conv2d(512, 2048, kernel_size=(1, 1), stride=(1, 1), bias=False)\n",
       "          (bn3): BatchNorm2d(2048, eps=1e-05, momentum=0.1, affine=True, track_running_stats=True)\n",
       "          (relu): ReLU(inplace=True)\n",
       "          (downsample): Sequential(\n",
       "            (0): Conv2d(1024, 2048, kernel_size=(1, 1), stride=(2, 2), bias=False)\n",
       "            (1): BatchNorm2d(2048, eps=1e-05, momentum=0.1, affine=True, track_running_stats=True)\n",
       "          )\n",
       "        )\n",
       "        (1): Bottleneck(\n",
       "          (conv1): Conv2d(2048, 512, kernel_size=(1, 1), stride=(1, 1), bias=False)\n",
       "          (bn1): BatchNorm2d(512, eps=1e-05, momentum=0.1, affine=True, track_running_stats=True)\n",
       "          (conv2): Conv2d(512, 512, kernel_size=(3, 3), stride=(1, 1), padding=(1, 1), bias=False)\n",
       "          (bn2): BatchNorm2d(512, eps=1e-05, momentum=0.1, affine=True, track_running_stats=True)\n",
       "          (conv3): Conv2d(512, 2048, kernel_size=(1, 1), stride=(1, 1), bias=False)\n",
       "          (bn3): BatchNorm2d(2048, eps=1e-05, momentum=0.1, affine=True, track_running_stats=True)\n",
       "          (relu): ReLU(inplace=True)\n",
       "        )\n",
       "        (2): Bottleneck(\n",
       "          (conv1): Conv2d(2048, 512, kernel_size=(1, 1), stride=(1, 1), bias=False)\n",
       "          (bn1): BatchNorm2d(512, eps=1e-05, momentum=0.1, affine=True, track_running_stats=True)\n",
       "          (conv2): Conv2d(512, 512, kernel_size=(3, 3), stride=(1, 1), padding=(1, 1), bias=False)\n",
       "          (bn2): BatchNorm2d(512, eps=1e-05, momentum=0.1, affine=True, track_running_stats=True)\n",
       "          (conv3): Conv2d(512, 2048, kernel_size=(1, 1), stride=(1, 1), bias=False)\n",
       "          (bn3): BatchNorm2d(2048, eps=1e-05, momentum=0.1, affine=True, track_running_stats=True)\n",
       "          (relu): ReLU(inplace=True)\n",
       "        )\n",
       "      )\n",
       "    )\n",
       "    (decoder): PylonDecoder(\n",
       "      (pa): PA(\n",
       "        (mid): Sequential(\n",
       "          (0): ConvBnRelu(\n",
       "            (conv): Conv2d(2048, 128, kernel_size=(1, 1), stride=(1, 1))\n",
       "            (bn): BatchNorm2d(128, eps=1e-05, momentum=0.1, affine=True, track_running_stats=True)\n",
       "            (activation): ReLU(inplace=True)\n",
       "          )\n",
       "        )\n",
       "        (down1): Sequential(\n",
       "          (0): MaxPool2d(kernel_size=2, stride=2, padding=0, dilation=1, ceil_mode=False)\n",
       "          (1): ConvBnRelu(\n",
       "            (conv): Conv2d(2048, 1, kernel_size=(7, 7), stride=(1, 1), padding=(3, 3))\n",
       "            (bn): BatchNorm2d(1, eps=1e-05, momentum=0.1, affine=True, track_running_stats=True)\n",
       "            (activation): ReLU(inplace=True)\n",
       "          )\n",
       "        )\n",
       "        (down2): Sequential(\n",
       "          (0): MaxPool2d(kernel_size=2, stride=2, padding=0, dilation=1, ceil_mode=False)\n",
       "          (1): ConvBnRelu(\n",
       "            (conv): Conv2d(1, 1, kernel_size=(5, 5), stride=(1, 1), padding=(2, 2))\n",
       "            (bn): BatchNorm2d(1, eps=1e-05, momentum=0.1, affine=True, track_running_stats=True)\n",
       "            (activation): ReLU(inplace=True)\n",
       "          )\n",
       "        )\n",
       "        (down3): Sequential(\n",
       "          (0): MaxPool2d(kernel_size=2, stride=2, padding=0, dilation=1, ceil_mode=False)\n",
       "          (1): ConvBnRelu(\n",
       "            (conv): Conv2d(1, 1, kernel_size=(3, 3), stride=(1, 1), padding=(1, 1))\n",
       "            (bn): BatchNorm2d(1, eps=1e-05, momentum=0.1, affine=True, track_running_stats=True)\n",
       "            (activation): ReLU(inplace=True)\n",
       "          )\n",
       "        )\n",
       "        (conv3): ConvBnRelu(\n",
       "          (conv): Conv2d(1, 1, kernel_size=(3, 3), stride=(1, 1), padding=(1, 1))\n",
       "          (bn): BatchNorm2d(1, eps=1e-05, momentum=0.1, affine=True, track_running_stats=True)\n",
       "          (activation): ReLU(inplace=True)\n",
       "        )\n",
       "        (conv2): ConvBnRelu(\n",
       "          (conv): Conv2d(1, 1, kernel_size=(5, 5), stride=(1, 1), padding=(2, 2))\n",
       "          (bn): BatchNorm2d(1, eps=1e-05, momentum=0.1, affine=True, track_running_stats=True)\n",
       "          (activation): ReLU(inplace=True)\n",
       "        )\n",
       "        (conv1): ConvBnRelu(\n",
       "          (conv): Conv2d(1, 1, kernel_size=(7, 7), stride=(1, 1), padding=(3, 3))\n",
       "          (bn): BatchNorm2d(1, eps=1e-05, momentum=0.1, affine=True, track_running_stats=True)\n",
       "          (activation): ReLU(inplace=True)\n",
       "        )\n",
       "      )\n",
       "      (up3): UP(\n",
       "        (conv1): Sequential(\n",
       "          (0): ConvBnRelu(\n",
       "            (conv): Conv2d(1024, 1024, kernel_size=(1, 1), stride=(1, 1))\n",
       "            (bn): BatchNorm2d(1024, eps=1e-05, momentum=0.1, affine=True, track_running_stats=True)\n",
       "            (activation): ReLU(inplace=True)\n",
       "          )\n",
       "          (1): ConvBnRelu(\n",
       "            (conv): Conv2d(1024, 128, kernel_size=(1, 1), stride=(1, 1))\n",
       "            (bn): BatchNorm2d(128, eps=1e-05, momentum=0.1, affine=True, track_running_stats=True)\n",
       "            (activation): ReLU(inplace=True)\n",
       "          )\n",
       "        )\n",
       "      )\n",
       "      (up2): UP(\n",
       "        (conv1): Sequential(\n",
       "          (0): ConvBnRelu(\n",
       "            (conv): Conv2d(512, 512, kernel_size=(1, 1), stride=(1, 1))\n",
       "            (bn): BatchNorm2d(512, eps=1e-05, momentum=0.1, affine=True, track_running_stats=True)\n",
       "            (activation): ReLU(inplace=True)\n",
       "          )\n",
       "          (1): ConvBnRelu(\n",
       "            (conv): Conv2d(512, 128, kernel_size=(1, 1), stride=(1, 1))\n",
       "            (bn): BatchNorm2d(128, eps=1e-05, momentum=0.1, affine=True, track_running_stats=True)\n",
       "            (activation): ReLU(inplace=True)\n",
       "          )\n",
       "        )\n",
       "      )\n",
       "      (up1): UP(\n",
       "        (conv1): Sequential(\n",
       "          (0): ConvBnRelu(\n",
       "            (conv): Conv2d(256, 256, kernel_size=(1, 1), stride=(1, 1))\n",
       "            (bn): BatchNorm2d(256, eps=1e-05, momentum=0.1, affine=True, track_running_stats=True)\n",
       "            (activation): ReLU(inplace=True)\n",
       "          )\n",
       "          (1): ConvBnRelu(\n",
       "            (conv): Conv2d(256, 128, kernel_size=(1, 1), stride=(1, 1))\n",
       "            (bn): BatchNorm2d(128, eps=1e-05, momentum=0.1, affine=True, track_running_stats=True)\n",
       "            (activation): ReLU(inplace=True)\n",
       "          )\n",
       "        )\n",
       "      )\n",
       "    )\n",
       "    (segmentation_head): SegmentationHead(\n",
       "      (0): Conv2d(128, 5, kernel_size=(1, 1), stride=(1, 1))\n",
       "      (1): Identity()\n",
       "      (2): Activation(\n",
       "        (activation): Identity()\n",
       "      )\n",
       "    )\n",
       "  )\n",
       "  (pool): AdaptiveMaxPool2d(output_size=1)\n",
       ")"
      ]
     },
     "execution_count": 27,
     "metadata": {},
     "output_type": "execute_result"
    }
   ],
   "source": [
    "model.to(device)"
   ]
  },
  {
   "cell_type": "code",
   "execution_count": 28,
   "metadata": {
    "id": "oobw-SSuFlhA"
   },
   "outputs": [],
   "source": [
    "criterion = nn.BCEWithLogitsLoss()\n",
    "optimizer = torch.optim.Adam(model.parameters(), lr=0.00005)  "
   ]
  },
  {
   "cell_type": "code",
   "execution_count": 29,
   "metadata": {
    "colab": {
     "base_uri": "https://localhost:8080/"
    },
    "id": "kDNEs5M7aCLe",
    "outputId": "5016ef78-962e-44a2-af95-22b2411a7418"
   },
   "outputs": [
    {
     "name": "stdout",
     "output_type": "stream",
     "text": [
      "Epoch 0/49\n"
     ]
    },
    {
     "ename": "KeyboardInterrupt",
     "evalue": "",
     "output_type": "error",
     "traceback": [
      "\u001b[0;31m---------------------------------------------------------------------------\u001b[0m",
      "\u001b[0;31mKeyboardInterrupt\u001b[0m                         Traceback (most recent call last)",
      "\u001b[0;32m<ipython-input-29-a9ab4e000ad5>\u001b[0m in \u001b[0;36m<module>\u001b[0;34m\u001b[0m\n\u001b[1;32m     26\u001b[0m       \u001b[0;31m# Backward and optimize\u001b[0m\u001b[0;34m\u001b[0m\u001b[0;34m\u001b[0m\u001b[0;34m\u001b[0m\u001b[0m\n\u001b[1;32m     27\u001b[0m       \u001b[0moptimizer\u001b[0m\u001b[0;34m.\u001b[0m\u001b[0mzero_grad\u001b[0m\u001b[0;34m(\u001b[0m\u001b[0;34m)\u001b[0m\u001b[0;34m\u001b[0m\u001b[0;34m\u001b[0m\u001b[0m\n\u001b[0;32m---> 28\u001b[0;31m       \u001b[0mloss\u001b[0m\u001b[0;34m.\u001b[0m\u001b[0mbackward\u001b[0m\u001b[0;34m(\u001b[0m\u001b[0;34m)\u001b[0m\u001b[0;34m\u001b[0m\u001b[0;34m\u001b[0m\u001b[0m\n\u001b[0m\u001b[1;32m     29\u001b[0m       \u001b[0moptimizer\u001b[0m\u001b[0;34m.\u001b[0m\u001b[0mstep\u001b[0m\u001b[0;34m(\u001b[0m\u001b[0;34m)\u001b[0m\u001b[0;34m\u001b[0m\u001b[0;34m\u001b[0m\u001b[0m\n\u001b[1;32m     30\u001b[0m       \u001b[0mrunning_loss\u001b[0m \u001b[0;34m+=\u001b[0m \u001b[0mloss\u001b[0m\u001b[0;34m.\u001b[0m\u001b[0mitem\u001b[0m\u001b[0;34m(\u001b[0m\u001b[0;34m)\u001b[0m \u001b[0;34m*\u001b[0m \u001b[0mimages\u001b[0m\u001b[0;34m.\u001b[0m\u001b[0msize\u001b[0m\u001b[0;34m(\u001b[0m\u001b[0;36m0\u001b[0m\u001b[0;34m)\u001b[0m\u001b[0;34m\u001b[0m\u001b[0;34m\u001b[0m\u001b[0m\n",
      "\u001b[0;32m~/Downloads/anaconda3/lib/python3.8/site-packages/torch/_tensor.py\u001b[0m in \u001b[0;36mbackward\u001b[0;34m(self, gradient, retain_graph, create_graph, inputs)\u001b[0m\n\u001b[1;32m    361\u001b[0m                 \u001b[0mcreate_graph\u001b[0m\u001b[0;34m=\u001b[0m\u001b[0mcreate_graph\u001b[0m\u001b[0;34m,\u001b[0m\u001b[0;34m\u001b[0m\u001b[0;34m\u001b[0m\u001b[0m\n\u001b[1;32m    362\u001b[0m                 inputs=inputs)\n\u001b[0;32m--> 363\u001b[0;31m         \u001b[0mtorch\u001b[0m\u001b[0;34m.\u001b[0m\u001b[0mautograd\u001b[0m\u001b[0;34m.\u001b[0m\u001b[0mbackward\u001b[0m\u001b[0;34m(\u001b[0m\u001b[0mself\u001b[0m\u001b[0;34m,\u001b[0m \u001b[0mgradient\u001b[0m\u001b[0;34m,\u001b[0m \u001b[0mretain_graph\u001b[0m\u001b[0;34m,\u001b[0m \u001b[0mcreate_graph\u001b[0m\u001b[0;34m,\u001b[0m \u001b[0minputs\u001b[0m\u001b[0;34m=\u001b[0m\u001b[0minputs\u001b[0m\u001b[0;34m)\u001b[0m\u001b[0;34m\u001b[0m\u001b[0;34m\u001b[0m\u001b[0m\n\u001b[0m\u001b[1;32m    364\u001b[0m \u001b[0;34m\u001b[0m\u001b[0m\n\u001b[1;32m    365\u001b[0m     \u001b[0;32mdef\u001b[0m \u001b[0mregister_hook\u001b[0m\u001b[0;34m(\u001b[0m\u001b[0mself\u001b[0m\u001b[0;34m,\u001b[0m \u001b[0mhook\u001b[0m\u001b[0;34m)\u001b[0m\u001b[0;34m:\u001b[0m\u001b[0;34m\u001b[0m\u001b[0;34m\u001b[0m\u001b[0m\n",
      "\u001b[0;32m~/Downloads/anaconda3/lib/python3.8/site-packages/torch/autograd/__init__.py\u001b[0m in \u001b[0;36mbackward\u001b[0;34m(tensors, grad_tensors, retain_graph, create_graph, grad_variables, inputs)\u001b[0m\n\u001b[1;32m    171\u001b[0m     \u001b[0;31m# some Python versions print out the first line of a multi-line function\u001b[0m\u001b[0;34m\u001b[0m\u001b[0;34m\u001b[0m\u001b[0;34m\u001b[0m\u001b[0m\n\u001b[1;32m    172\u001b[0m     \u001b[0;31m# calls in the traceback and some print out the last line\u001b[0m\u001b[0;34m\u001b[0m\u001b[0;34m\u001b[0m\u001b[0;34m\u001b[0m\u001b[0m\n\u001b[0;32m--> 173\u001b[0;31m     Variable._execution_engine.run_backward(  # Calls into the C++ engine to run the backward pass\n\u001b[0m\u001b[1;32m    174\u001b[0m         \u001b[0mtensors\u001b[0m\u001b[0;34m,\u001b[0m \u001b[0mgrad_tensors_\u001b[0m\u001b[0;34m,\u001b[0m \u001b[0mretain_graph\u001b[0m\u001b[0;34m,\u001b[0m \u001b[0mcreate_graph\u001b[0m\u001b[0;34m,\u001b[0m \u001b[0minputs\u001b[0m\u001b[0;34m,\u001b[0m\u001b[0;34m\u001b[0m\u001b[0;34m\u001b[0m\u001b[0m\n\u001b[1;32m    175\u001b[0m         allow_unreachable=True, accumulate_grad=True)  # Calls into the C++ engine to run the backward pass\n",
      "\u001b[0;31mKeyboardInterrupt\u001b[0m: "
     ]
    }
   ],
   "source": [
    "loss_arr = []\n",
    "val_loss_arr = []\n",
    "min_loss = 10\n",
    "\n",
    "early_stopping = EarlyStopping(patience=10)\n",
    "\n",
    "for epoch in range(epochs):\n",
    "  print(f'Epoch {epoch}/{epochs-1}')\n",
    "\n",
    "  # train\n",
    "  running_loss = 0.0\n",
    "  s = time.time()\n",
    "  n_total_steps = len(train_dataloader)\n",
    "  model.train()\n",
    "  for i, (images, labels) in enumerate(train_dataloader):  \n",
    "    images = images.to(device)\n",
    "    labels = labels.to(device)\n",
    "    # forward\n",
    "    # track history if only in train\n",
    "    with torch.set_grad_enabled(True):\n",
    "      outputs = model(images)\n",
    "      outputs = outputs.pred\n",
    "      # print(outputs)\n",
    "      loss = criterion(outputs, labels.float())\n",
    "  \n",
    "      # Backward and optimize\n",
    "      optimizer.zero_grad()\n",
    "      loss.backward()\n",
    "      optimizer.step()\n",
    "      running_loss += loss.item() * images.size(0)\n",
    "      if (i+1) % 50 == 0:\n",
    "          print (f'[Train] Step [{i+1}/{n_total_steps}], Loss: {loss.item():.4f}, time: {(time.time()-s):.4f}s')\n",
    "          s = time.time()\n",
    "  epoch_loss = running_loss / len(train_dataset)\n",
    "  loss_arr.append(epoch_loss)\n",
    "  print (f'[Train] Epoch {epoch}/{epochs-1}, Loss: {epoch_loss:.4f}')\n",
    "\n",
    "  # eval\n",
    "  running_loss = 0.0\n",
    "  s = time.time()\n",
    "  n_total_steps = len(valid_dataloader)\n",
    "  model.eval()\n",
    "  for i, (images, labels) in enumerate(valid_dataloader):  \n",
    "    images = images.to(device)\n",
    "    labels = labels.to(device)\n",
    "\n",
    "    # forward\n",
    "    with torch.set_grad_enabled(False):\n",
    "      outputs = model(images)\n",
    "      outputs = outputs.pred\n",
    "      loss = criterion(outputs, labels.float())\n",
    "      running_loss += loss.item() * images.size(0)\n",
    "  \n",
    "  epoch_loss = running_loss / len(valid_dataset)\n",
    "  val_loss_arr.append(epoch_loss)\n",
    "  # save model with min loss\n",
    "  if min_loss > epoch_loss:\n",
    "    min_loss = epoch_loss\n",
    "    torch.save(model.state_dict(), 'model_best.pth')\n",
    "    print(f'Save model_best, Loss: {epoch_loss:.4f}')\n",
    "\n",
    "  early_stopping(epoch_loss)\n",
    "  if early_stopping.early_stop:\n",
    "    print(f\"Early stopping at val_loss : {epoch_loss}\")\n",
    "    break\n",
    "\n",
    "  print (f'[Eval] Epoch {epoch}/{epochs-1}, Loss: {epoch_loss:.4f}')\n",
    "  print('-' * 10)"
   ]
  },
  {
   "cell_type": "code",
   "execution_count": null,
   "metadata": {
    "colab": {
     "base_uri": "https://localhost:8080/",
     "height": 281
    },
    "id": "XiBi_kUbcnqv",
    "outputId": "ec0758e7-9274-411b-a43c-761b628df097"
   },
   "outputs": [],
   "source": [
    "plt.plot(range(epochs), loss_arr, label='Training Loss')\n",
    "plt.plot(range(epochs), val_loss_arr, label='Validation Loss')\n",
    "plt.legend(loc='upper right')\n",
    "plt.title('Training and Validation Loss')\n",
    "plt.show()"
   ]
  },
  {
   "cell_type": "markdown",
   "metadata": {
    "id": "Qkzi748Nw2sL"
   },
   "source": [
    "### predict"
   ]
  },
  {
   "cell_type": "code",
   "execution_count": null,
   "metadata": {
    "colab": {
     "base_uri": "https://localhost:8080/"
    },
    "id": "IO0tvFl3HFMG",
    "outputId": "c4672d9e-145f-4183-9159-a3715550fb49"
   },
   "outputs": [],
   "source": [
    "model2 = net_conf.make_model()\n",
    "model2.load_state_dict(torch.load('model_best.pth'))\n",
    "# model.state_dict()\n",
    "model2.to(device)"
   ]
  },
  {
   "cell_type": "code",
   "execution_count": null,
   "metadata": {
    "id": "SU5VlAAqHb33"
   },
   "outputs": [],
   "source": [
    "model2.eval()\n",
    "y_pred = []\n",
    "y = []\n",
    "\n",
    "with torch.no_grad():\n",
    "    for i, (images, labels) in enumerate(test_dataloader):\n",
    "        images = images.to(device)\n",
    "        labels = labels.to(device)\n",
    "        outputs = model2(images)\n",
    "        outputs = outputs.pred\n",
    "        y_pred.extend(torch.sigmoid(outputs))\n",
    "        y.extend(labels)\n",
    "y_pred = torch.stack(y_pred).cpu()\n",
    "y = torch.stack(y).cpu()"
   ]
  },
  {
   "cell_type": "code",
   "execution_count": null,
   "metadata": {
    "colab": {
     "base_uri": "https://localhost:8080/"
    },
    "id": "pcb2VjuiHjBI",
    "outputId": "a0897b1f-b496-4ca7-d13a-b563f1711a42"
   },
   "outputs": [],
   "source": [
    "target_names = labels_col\n",
    "from sklearn.metrics import classification_report, multilabel_confusion_matrix\n",
    "report = classification_report(y==1, y_pred>=0.5, digits=4, target_names=target_names)\n",
    "print(report)"
   ]
  },
  {
   "cell_type": "code",
   "execution_count": null,
   "metadata": {
    "colab": {
     "base_uri": "https://localhost:8080/",
     "height": 281
    },
    "id": "x5ZKuyQxHj9J",
    "outputId": "9e3fc35d-8a84-4a52-cd6e-6c9f38fba3bc"
   },
   "outputs": [],
   "source": [
    "import seaborn as sns\n",
    "fig, ax = plt.subplots(1,5,figsize=(20,4))\n",
    "for i in range(classes):\n",
    "    sns.heatmap(multilabel_confusion_matrix(y==1,y_pred>=0.5)[i], annot=True, fmt='g', ax=ax[i])\n",
    "    ax[i].set_title(target_names[i])\n",
    "    ax[i].set_xlabel(\"Predict\")\n",
    "    ax[i].set_ylabel(\"Actual\")"
   ]
  },
  {
   "cell_type": "code",
   "execution_count": null,
   "metadata": {
    "id": "lKhOIjRKJaOR"
   },
   "outputs": [],
   "source": [
    "# import sklearn.metrics\n",
    "# # y==1, y_pred>=0.5\n",
    "# auprc = sklearn.metrics.average_precision_score(y, y_pred)\n",
    "# print('all',auprc)\n",
    "# auprc = sklearn.metrics.average_precision_score(y[:, 0:1], y_pred[:, 0:1])\n",
    "# print(target_names[0],auprc)\n",
    "# auprc = sklearn.metrics.average_precision_score(y[:, 1:2], y_pred[:, 1:2])\n",
    "# print(target_names[1],auprc)\n",
    "# auprc = sklearn.metrics.average_precision_score(y[:, 2:3], y_pred[:, 2:3])\n",
    "# print(target_names[2],auprc)\n",
    "# auprc = sklearn.metrics.average_precision_score(y[:, 1:2], y_pred[:, 1:2])\n",
    "# print(target_names[3],auprc)\n",
    "# auprc = sklearn.metrics.average_precision_score(y[:, 2:3], y_pred[:, 2:3])\n",
    "# print(target_names[4],auprc)"
   ]
  }
 ],
 "metadata": {
  "accelerator": "GPU",
  "colab": {
   "collapsed_sections": [
    "bXDu9DEXD6LY"
   ],
   "name": "pylon for fl.ipynb",
   "provenance": []
  },
  "kernelspec": {
   "display_name": "Python 3",
   "language": "python",
   "name": "python3"
  },
  "language_info": {
   "codemirror_mode": {
    "name": "ipython",
    "version": 3
   },
   "file_extension": ".py",
   "mimetype": "text/x-python",
   "name": "python",
   "nbconvert_exporter": "python",
   "pygments_lexer": "ipython3",
   "version": "3.8.8"
  },
  "widgets": {
   "application/vnd.jupyter.widget-state+json": {
    "023ffea7dfbb473aa1d3ab66e88d096d": {
     "model_module": "@jupyter-widgets/base",
     "model_module_version": "1.2.0",
     "model_name": "LayoutModel",
     "state": {
      "_model_module": "@jupyter-widgets/base",
      "_model_module_version": "1.2.0",
      "_model_name": "LayoutModel",
      "_view_count": null,
      "_view_module": "@jupyter-widgets/base",
      "_view_module_version": "1.2.0",
      "_view_name": "LayoutView",
      "align_content": null,
      "align_items": null,
      "align_self": null,
      "border": null,
      "bottom": null,
      "display": null,
      "flex": null,
      "flex_flow": null,
      "grid_area": null,
      "grid_auto_columns": null,
      "grid_auto_flow": null,
      "grid_auto_rows": null,
      "grid_column": null,
      "grid_gap": null,
      "grid_row": null,
      "grid_template_areas": null,
      "grid_template_columns": null,
      "grid_template_rows": null,
      "height": null,
      "justify_content": null,
      "justify_items": null,
      "left": null,
      "margin": null,
      "max_height": null,
      "max_width": null,
      "min_height": null,
      "min_width": null,
      "object_fit": null,
      "object_position": null,
      "order": null,
      "overflow": null,
      "overflow_x": null,
      "overflow_y": null,
      "padding": null,
      "right": null,
      "top": null,
      "visibility": null,
      "width": null
     }
    },
    "1c0ea54103b648dba99e8bf8b7d8a736": {
     "model_module": "@jupyter-widgets/base",
     "model_module_version": "1.2.0",
     "model_name": "LayoutModel",
     "state": {
      "_model_module": "@jupyter-widgets/base",
      "_model_module_version": "1.2.0",
      "_model_name": "LayoutModel",
      "_view_count": null,
      "_view_module": "@jupyter-widgets/base",
      "_view_module_version": "1.2.0",
      "_view_name": "LayoutView",
      "align_content": null,
      "align_items": null,
      "align_self": null,
      "border": null,
      "bottom": null,
      "display": null,
      "flex": null,
      "flex_flow": null,
      "grid_area": null,
      "grid_auto_columns": null,
      "grid_auto_flow": null,
      "grid_auto_rows": null,
      "grid_column": null,
      "grid_gap": null,
      "grid_row": null,
      "grid_template_areas": null,
      "grid_template_columns": null,
      "grid_template_rows": null,
      "height": null,
      "justify_content": null,
      "justify_items": null,
      "left": null,
      "margin": null,
      "max_height": null,
      "max_width": null,
      "min_height": null,
      "min_width": null,
      "object_fit": null,
      "object_position": null,
      "order": null,
      "overflow": null,
      "overflow_x": null,
      "overflow_y": null,
      "padding": null,
      "right": null,
      "top": null,
      "visibility": null,
      "width": null
     }
    },
    "208aa7e71ec44473a563980070f514f0": {
     "model_module": "@jupyter-widgets/base",
     "model_module_version": "1.2.0",
     "model_name": "LayoutModel",
     "state": {
      "_model_module": "@jupyter-widgets/base",
      "_model_module_version": "1.2.0",
      "_model_name": "LayoutModel",
      "_view_count": null,
      "_view_module": "@jupyter-widgets/base",
      "_view_module_version": "1.2.0",
      "_view_name": "LayoutView",
      "align_content": null,
      "align_items": null,
      "align_self": null,
      "border": null,
      "bottom": null,
      "display": null,
      "flex": null,
      "flex_flow": null,
      "grid_area": null,
      "grid_auto_columns": null,
      "grid_auto_flow": null,
      "grid_auto_rows": null,
      "grid_column": null,
      "grid_gap": null,
      "grid_row": null,
      "grid_template_areas": null,
      "grid_template_columns": null,
      "grid_template_rows": null,
      "height": null,
      "justify_content": null,
      "justify_items": null,
      "left": null,
      "margin": null,
      "max_height": null,
      "max_width": null,
      "min_height": null,
      "min_width": null,
      "object_fit": null,
      "object_position": null,
      "order": null,
      "overflow": null,
      "overflow_x": null,
      "overflow_y": null,
      "padding": null,
      "right": null,
      "top": null,
      "visibility": null,
      "width": null
     }
    },
    "32f7fa2171fb4d9690d6e6d267a07cd7": {
     "model_module": "@jupyter-widgets/controls",
     "model_module_version": "1.5.0",
     "model_name": "FloatProgressModel",
     "state": {
      "_dom_classes": [],
      "_model_module": "@jupyter-widgets/controls",
      "_model_module_version": "1.5.0",
      "_model_name": "FloatProgressModel",
      "_view_count": null,
      "_view_module": "@jupyter-widgets/controls",
      "_view_module_version": "1.5.0",
      "_view_name": "ProgressView",
      "bar_style": "success",
      "description": "",
      "description_tooltip": null,
      "layout": "IPY_MODEL_208aa7e71ec44473a563980070f514f0",
      "max": 102502400,
      "min": 0,
      "orientation": "horizontal",
      "style": "IPY_MODEL_9f26228ceff64471a7850c959da56ae9",
      "value": 102502400
     }
    },
    "366572ec3e8a4765b1fade8e681ae381": {
     "model_module": "@jupyter-widgets/controls",
     "model_module_version": "1.5.0",
     "model_name": "HTMLModel",
     "state": {
      "_dom_classes": [],
      "_model_module": "@jupyter-widgets/controls",
      "_model_module_version": "1.5.0",
      "_model_name": "HTMLModel",
      "_view_count": null,
      "_view_module": "@jupyter-widgets/controls",
      "_view_module_version": "1.5.0",
      "_view_name": "HTMLView",
      "description": "",
      "description_tooltip": null,
      "layout": "IPY_MODEL_1c0ea54103b648dba99e8bf8b7d8a736",
      "placeholder": "​",
      "style": "IPY_MODEL_d393bc99d0404ca8a2577ecbb0ef69ab",
      "value": "100%"
     }
    },
    "7c2472f69d7d406ba30f9569295874fb": {
     "model_module": "@jupyter-widgets/controls",
     "model_module_version": "1.5.0",
     "model_name": "HTMLModel",
     "state": {
      "_dom_classes": [],
      "_model_module": "@jupyter-widgets/controls",
      "_model_module_version": "1.5.0",
      "_model_name": "HTMLModel",
      "_view_count": null,
      "_view_module": "@jupyter-widgets/controls",
      "_view_module_version": "1.5.0",
      "_view_name": "HTMLView",
      "description": "",
      "description_tooltip": null,
      "layout": "IPY_MODEL_023ffea7dfbb473aa1d3ab66e88d096d",
      "placeholder": "​",
      "style": "IPY_MODEL_afcfe257f35740678f4f1ef6969d2d60",
      "value": " 97.8M/97.8M [00:02&lt;00:00, 38.1MB/s]"
     }
    },
    "93d7872f705b43a889950aaae4274050": {
     "model_module": "@jupyter-widgets/base",
     "model_module_version": "1.2.0",
     "model_name": "LayoutModel",
     "state": {
      "_model_module": "@jupyter-widgets/base",
      "_model_module_version": "1.2.0",
      "_model_name": "LayoutModel",
      "_view_count": null,
      "_view_module": "@jupyter-widgets/base",
      "_view_module_version": "1.2.0",
      "_view_name": "LayoutView",
      "align_content": null,
      "align_items": null,
      "align_self": null,
      "border": null,
      "bottom": null,
      "display": null,
      "flex": null,
      "flex_flow": null,
      "grid_area": null,
      "grid_auto_columns": null,
      "grid_auto_flow": null,
      "grid_auto_rows": null,
      "grid_column": null,
      "grid_gap": null,
      "grid_row": null,
      "grid_template_areas": null,
      "grid_template_columns": null,
      "grid_template_rows": null,
      "height": null,
      "justify_content": null,
      "justify_items": null,
      "left": null,
      "margin": null,
      "max_height": null,
      "max_width": null,
      "min_height": null,
      "min_width": null,
      "object_fit": null,
      "object_position": null,
      "order": null,
      "overflow": null,
      "overflow_x": null,
      "overflow_y": null,
      "padding": null,
      "right": null,
      "top": null,
      "visibility": null,
      "width": null
     }
    },
    "9f26228ceff64471a7850c959da56ae9": {
     "model_module": "@jupyter-widgets/controls",
     "model_module_version": "1.5.0",
     "model_name": "ProgressStyleModel",
     "state": {
      "_model_module": "@jupyter-widgets/controls",
      "_model_module_version": "1.5.0",
      "_model_name": "ProgressStyleModel",
      "_view_count": null,
      "_view_module": "@jupyter-widgets/base",
      "_view_module_version": "1.2.0",
      "_view_name": "StyleView",
      "bar_color": null,
      "description_width": ""
     }
    },
    "afcfe257f35740678f4f1ef6969d2d60": {
     "model_module": "@jupyter-widgets/controls",
     "model_module_version": "1.5.0",
     "model_name": "DescriptionStyleModel",
     "state": {
      "_model_module": "@jupyter-widgets/controls",
      "_model_module_version": "1.5.0",
      "_model_name": "DescriptionStyleModel",
      "_view_count": null,
      "_view_module": "@jupyter-widgets/base",
      "_view_module_version": "1.2.0",
      "_view_name": "StyleView",
      "description_width": ""
     }
    },
    "d393bc99d0404ca8a2577ecbb0ef69ab": {
     "model_module": "@jupyter-widgets/controls",
     "model_module_version": "1.5.0",
     "model_name": "DescriptionStyleModel",
     "state": {
      "_model_module": "@jupyter-widgets/controls",
      "_model_module_version": "1.5.0",
      "_model_name": "DescriptionStyleModel",
      "_view_count": null,
      "_view_module": "@jupyter-widgets/base",
      "_view_module_version": "1.2.0",
      "_view_name": "StyleView",
      "description_width": ""
     }
    },
    "da401f46a2494ecd9b4ba641f206894f": {
     "model_module": "@jupyter-widgets/controls",
     "model_module_version": "1.5.0",
     "model_name": "HBoxModel",
     "state": {
      "_dom_classes": [],
      "_model_module": "@jupyter-widgets/controls",
      "_model_module_version": "1.5.0",
      "_model_name": "HBoxModel",
      "_view_count": null,
      "_view_module": "@jupyter-widgets/controls",
      "_view_module_version": "1.5.0",
      "_view_name": "HBoxView",
      "box_style": "",
      "children": [
       "IPY_MODEL_366572ec3e8a4765b1fade8e681ae381",
       "IPY_MODEL_32f7fa2171fb4d9690d6e6d267a07cd7",
       "IPY_MODEL_7c2472f69d7d406ba30f9569295874fb"
      ],
      "layout": "IPY_MODEL_93d7872f705b43a889950aaae4274050"
     }
    }
   }
  }
 },
 "nbformat": 4,
 "nbformat_minor": 1
}
